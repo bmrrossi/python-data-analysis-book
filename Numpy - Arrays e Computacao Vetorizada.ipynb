{
 "cells": [
  {
   "cell_type": "markdown",
   "id": "38ede16f-b555-459b-9984-b005e0276d5e",
   "metadata": {},
   "source": [
    "## Diferença de tempo entre um array numpy e uma lista (ambos com 1 milhão de inteiros)"
   ]
  },
  {
   "cell_type": "code",
   "execution_count": 1,
   "id": "1048c7ea-8531-4e5b-8843-775325ae3f44",
   "metadata": {},
   "outputs": [],
   "source": [
    "import numpy as np"
   ]
  },
  {
   "cell_type": "code",
   "execution_count": 2,
   "id": "6d1f5037-bf76-432c-8b00-14ff73ea6498",
   "metadata": {},
   "outputs": [],
   "source": [
    "my_arr = np.arange(5_000_000)\n",
    "\n",
    "my_list = list(range(5_000_000))"
   ]
  },
  {
   "cell_type": "code",
   "execution_count": 3,
   "id": "2cf96f42-eed0-4fdc-ba71-91ba928c3164",
   "metadata": {},
   "outputs": [
    {
     "name": "stdout",
     "output_type": "stream",
     "text": [
      "9.42 ms ± 73.2 μs per loop (mean ± std. dev. of 7 runs, 100 loops each)\n"
     ]
    }
   ],
   "source": [
    "%timeit my_arr2 = my_arr * 2"
   ]
  },
  {
   "cell_type": "code",
   "execution_count": 4,
   "id": "a00727f8-713e-41d6-b999-4512ebea19b9",
   "metadata": {},
   "outputs": [
    {
     "name": "stdout",
     "output_type": "stream",
     "text": [
      "277 ms ± 23.7 ms per loop (mean ± std. dev. of 7 runs, 1 loop each)\n"
     ]
    }
   ],
   "source": [
    "%timeit my_list2 = [x * 2 for x in my_list]"
   ]
  },
  {
   "cell_type": "code",
   "execution_count": 5,
   "id": "9a8f13b5-0d42-45fe-a8ef-0c86ba34495d",
   "metadata": {},
   "outputs": [],
   "source": [
    "test_arr = np.arange(10)"
   ]
  },
  {
   "cell_type": "code",
   "execution_count": 6,
   "id": "4e31dad2-2c20-4785-9054-b084f9d467dc",
   "metadata": {},
   "outputs": [
    {
     "data": {
      "text/plain": [
       "array([0, 1, 2, 3, 4, 5, 6, 7, 8, 9])"
      ]
     },
     "execution_count": 6,
     "metadata": {},
     "output_type": "execute_result"
    }
   ],
   "source": [
    "test_arr"
   ]
  },
  {
   "cell_type": "code",
   "execution_count": 7,
   "id": "02b80968-79ba-4c8b-b648-ca75059f37bf",
   "metadata": {},
   "outputs": [
    {
     "data": {
      "text/plain": [
       "\u001b[31mDocstring:\u001b[39m\n",
       "arange([start,] stop[, step,], dtype=None, *, device=None, like=None)\n",
       "\n",
       "Return evenly spaced values within a given interval.\n",
       "\n",
       "``arange`` can be called with a varying number of positional arguments:\n",
       "\n",
       "* ``arange(stop)``: Values are generated within the half-open interval\n",
       "  ``[0, stop)`` (in other words, the interval including `start` but\n",
       "  excluding `stop`).\n",
       "* ``arange(start, stop)``: Values are generated within the half-open\n",
       "  interval ``[start, stop)``.\n",
       "* ``arange(start, stop, step)`` Values are generated within the half-open\n",
       "  interval ``[start, stop)``, with spacing between values given by\n",
       "  ``step``.\n",
       "\n",
       "For integer arguments the function is roughly equivalent to the Python\n",
       "built-in :py:class:`range`, but returns an ndarray rather than a ``range``\n",
       "instance.\n",
       "\n",
       "When using a non-integer step, such as 0.1, it is often better to use\n",
       "`numpy.linspace`.\n",
       "\n",
       "See the Warning sections below for more information.\n",
       "\n",
       "Parameters\n",
       "----------\n",
       "start : integer or real, optional\n",
       "    Start of interval.  The interval includes this value.  The default\n",
       "    start value is 0.\n",
       "stop : integer or real\n",
       "    End of interval.  The interval does not include this value, except\n",
       "    in some cases where `step` is not an integer and floating point\n",
       "    round-off affects the length of `out`.\n",
       "step : integer or real, optional\n",
       "    Spacing between values.  For any output `out`, this is the distance\n",
       "    between two adjacent values, ``out[i+1] - out[i]``.  The default\n",
       "    step size is 1.  If `step` is specified as a position argument,\n",
       "    `start` must also be given.\n",
       "dtype : dtype, optional\n",
       "    The type of the output array.  If `dtype` is not given, infer the data\n",
       "    type from the other input arguments.\n",
       "device : str, optional\n",
       "    The device on which to place the created array. Default: ``None``.\n",
       "    For Array-API interoperability only, so must be ``\"cpu\"`` if passed.\n",
       "\n",
       "    .. versionadded:: 2.0.0\n",
       "like : array_like, optional\n",
       "    Reference object to allow the creation of arrays which are not\n",
       "    NumPy arrays. If an array-like passed in as ``like`` supports\n",
       "    the ``__array_function__`` protocol, the result will be defined\n",
       "    by it. In this case, it ensures the creation of an array object\n",
       "    compatible with that passed in via this argument.\n",
       "\n",
       "    .. versionadded:: 1.20.0\n",
       "\n",
       "Returns\n",
       "-------\n",
       "arange : ndarray\n",
       "    Array of evenly spaced values.\n",
       "\n",
       "    For floating point arguments, the length of the result is\n",
       "    ``ceil((stop - start)/step)``.  Because of floating point overflow,\n",
       "    this rule may result in the last element of `out` being greater\n",
       "    than `stop`.\n",
       "\n",
       "Warnings\n",
       "--------\n",
       "The length of the output might not be numerically stable.\n",
       "\n",
       "Another stability issue is due to the internal implementation of\n",
       "`numpy.arange`.\n",
       "The actual step value used to populate the array is\n",
       "``dtype(start + step) - dtype(start)`` and not `step`. Precision loss\n",
       "can occur here, due to casting or due to using floating points when\n",
       "`start` is much larger than `step`. This can lead to unexpected\n",
       "behaviour. For example::\n",
       "\n",
       "  >>> np.arange(0, 5, 0.5, dtype=int)\n",
       "  array([0, 0, 0, 0, 0, 0, 0, 0, 0, 0])\n",
       "  >>> np.arange(-3, 3, 0.5, dtype=int)\n",
       "  array([-3, -2, -1,  0,  1,  2,  3,  4,  5,  6,  7,  8])\n",
       "\n",
       "In such cases, the use of `numpy.linspace` should be preferred.\n",
       "\n",
       "The built-in :py:class:`range` generates :std:doc:`Python built-in integers\n",
       "that have arbitrary size <python:c-api/long>`, while `numpy.arange`\n",
       "produces `numpy.int32` or `numpy.int64` numbers. This may result in\n",
       "incorrect results for large integer values::\n",
       "\n",
       "  >>> power = 40\n",
       "  >>> modulo = 10000\n",
       "  >>> x1 = [(n ** power) % modulo for n in range(8)]\n",
       "  >>> x2 = [(n ** power) % modulo for n in np.arange(8)]\n",
       "  >>> print(x1)\n",
       "  [0, 1, 7776, 8801, 6176, 625, 6576, 4001]  # correct\n",
       "  >>> print(x2)\n",
       "  [0, 1, 7776, 7185, 0, 5969, 4816, 3361]  # incorrect\n",
       "\n",
       "See Also\n",
       "--------\n",
       "numpy.linspace : Evenly spaced numbers with careful handling of endpoints.\n",
       "numpy.ogrid: Arrays of evenly spaced numbers in N-dimensions.\n",
       "numpy.mgrid: Grid-shaped arrays of evenly spaced numbers in N-dimensions.\n",
       ":ref:`how-to-partition`\n",
       "\n",
       "Examples\n",
       "--------\n",
       ">>> import numpy as np\n",
       ">>> np.arange(3)\n",
       "array([0, 1, 2])\n",
       ">>> np.arange(3.0)\n",
       "array([ 0.,  1.,  2.])\n",
       ">>> np.arange(3,7)\n",
       "array([3, 4, 5, 6])\n",
       ">>> np.arange(3,7,2)\n",
       "array([3, 5])\n",
       "\u001b[31mType:\u001b[39m      builtin_function_or_method"
      ]
     },
     "metadata": {},
     "output_type": "display_data"
    }
   ],
   "source": [
    "np.arange?"
   ]
  },
  {
   "cell_type": "markdown",
   "id": "f2bf9d7e-09a9-4352-be20-7ae9d71388dc",
   "metadata": {},
   "source": [
    "## Computação em lote com NumPy - Algumas operações padrões"
   ]
  },
  {
   "cell_type": "code",
   "execution_count": 8,
   "id": "af62f1e1-2f9d-4325-9472-ca72eb706222",
   "metadata": {},
   "outputs": [],
   "source": [
    "data = np.array([[1, 2, 3],[3.5, 7, 4]])"
   ]
  },
  {
   "cell_type": "code",
   "execution_count": 9,
   "id": "23bffbb1-b8c8-4e19-a691-20c6d010a879",
   "metadata": {},
   "outputs": [
    {
     "data": {
      "text/plain": [
       "array([[1. , 2. , 3. ],\n",
       "       [3.5, 7. , 4. ]])"
      ]
     },
     "execution_count": 9,
     "metadata": {},
     "output_type": "execute_result"
    }
   ],
   "source": [
    "data"
   ]
  },
  {
   "cell_type": "code",
   "execution_count": 10,
   "id": "74c9498e-26ce-44ff-88ab-64396adfe8ce",
   "metadata": {},
   "outputs": [
    {
     "data": {
      "text/plain": [
       "array([[10., 20., 30.],\n",
       "       [35., 70., 40.]])"
      ]
     },
     "execution_count": 10,
     "metadata": {},
     "output_type": "execute_result"
    }
   ],
   "source": [
    "data * 10"
   ]
  },
  {
   "cell_type": "code",
   "execution_count": 11,
   "id": "b9337e5b-197b-47c9-bd64-75342961c270",
   "metadata": {},
   "outputs": [
    {
     "data": {
      "text/plain": [
       "array([[ 2.,  4.,  6.],\n",
       "       [ 7., 14.,  8.]])"
      ]
     },
     "execution_count": 11,
     "metadata": {},
     "output_type": "execute_result"
    }
   ],
   "source": [
    "data + data"
   ]
  },
  {
   "cell_type": "code",
   "execution_count": 12,
   "id": "3ae107df-6c44-402a-8258-ede59315d3ce",
   "metadata": {},
   "outputs": [
    {
     "data": {
      "text/plain": [
       "(2, 3)"
      ]
     },
     "execution_count": 12,
     "metadata": {},
     "output_type": "execute_result"
    }
   ],
   "source": [
    "# Chegar dimensao do array\n",
    "data.shape"
   ]
  },
  {
   "cell_type": "code",
   "execution_count": 13,
   "id": "e7cb4ff7-850a-4c26-9950-1b92448f7513",
   "metadata": {},
   "outputs": [
    {
     "data": {
      "text/plain": [
       "dtype('float64')"
      ]
     },
     "execution_count": 13,
     "metadata": {},
     "output_type": "execute_result"
    }
   ],
   "source": [
    "# Chegar type do array\n",
    "data.dtype"
   ]
  },
  {
   "cell_type": "markdown",
   "id": "628d3a5a-8dfd-421d-9dba-04fe2f9130bc",
   "metadata": {},
   "source": [
    "## Convertendo uma lista para ndarray\n",
    "\n",
    "Um array é mais performático que uma lista comum do python (built-in list).\n",
    "Como os arrays do NumPy são implementados com libs de C isso aumenta o desempenho.\n",
    "Isso permite a estes arrays executar operações vetoriais por todos os elementos sem a necessidade de utilizar um loop (for)\n"
   ]
  },
  {
   "cell_type": "code",
   "execution_count": 15,
   "id": "8d1d2ef7-d89b-445a-a883-c217c9f42b7f",
   "metadata": {},
   "outputs": [],
   "source": [
    "lst = [1, 7, 4, 2.5, 3.7]\n",
    "arr = np.array(lst)"
   ]
  },
  {
   "cell_type": "code",
   "execution_count": 16,
   "id": "aebd951c-0215-47aa-b719-db7b5b8c3b67",
   "metadata": {},
   "outputs": [
    {
     "data": {
      "text/plain": [
       "array([1. , 7. , 4. , 2.5, 3.7])"
      ]
     },
     "execution_count": 16,
     "metadata": {},
     "output_type": "execute_result"
    }
   ],
   "source": [
    "arr"
   ]
  },
  {
   "cell_type": "code",
   "execution_count": 17,
   "id": "158126c6-c20b-459e-91ec-9fd866f56fa8",
   "metadata": {},
   "outputs": [
    {
     "data": {
      "text/plain": [
       "array([[3.4, 2.7, 3. ],\n",
       "       [2.1, 2. , 4. ]])"
      ]
     },
     "execution_count": 17,
     "metadata": {},
     "output_type": "execute_result"
    }
   ],
   "source": [
    "# Sequencias aninhadas (lista de lista) ira criar um array multidimensional\n",
    "lst2 = [[3.4, 2.7, 3],[2.1, 2, 4]]\n",
    "arr2 = np.array(lst2)\n",
    "arr2"
   ]
  },
  {
   "cell_type": "code",
   "execution_count": 18,
   "id": "4e41a4ca-a396-416f-89f2-92919d5be608",
   "metadata": {},
   "outputs": [
    {
     "data": {
      "text/plain": [
       "2"
      ]
     },
     "execution_count": 18,
     "metadata": {},
     "output_type": "execute_result"
    }
   ],
   "source": [
    "# Chegar numero de dimensoes do array\n",
    "arr2.ndim"
   ]
  },
  {
   "cell_type": "code",
   "execution_count": 19,
   "id": "ecb43d57-b13d-43c0-a41d-cb44d904c249",
   "metadata": {},
   "outputs": [
    {
     "data": {
      "text/plain": [
       "(2, 3)"
      ]
     },
     "execution_count": 19,
     "metadata": {},
     "output_type": "execute_result"
    }
   ],
   "source": [
    "arr2.shape"
   ]
  },
  {
   "cell_type": "markdown",
   "id": "ad48ab4c-1223-426f-b88f-0dd222125dc1",
   "metadata": {},
   "source": [
    "## Criando arrays pre-definidos com 0's 1's e sem tamanho"
   ]
  },
  {
   "cell_type": "code",
   "execution_count": 22,
   "id": "1c0e1434-bfd3-442b-b15e-0350aabade43",
   "metadata": {},
   "outputs": [
    {
     "data": {
      "text/plain": [
       "array([0., 0., 0., 0., 0., 0., 0., 0., 0., 0.])"
      ]
     },
     "execution_count": 22,
     "metadata": {},
     "output_type": "execute_result"
    }
   ],
   "source": [
    "# É possível criar um array de zeros com a funcao zeros(n)\n",
    "arr_z = np.zeros(10) # Neste caso sera criado um array unidimensional com 10 valores zerados\n",
    "arr_z"
   ]
  },
  {
   "cell_type": "code",
   "execution_count": 23,
   "id": "d9d33157-3ca6-414b-bc9b-cc9a8d550667",
   "metadata": {},
   "outputs": [
    {
     "data": {
      "text/plain": [
       "array([[0., 0., 0., 0.],\n",
       "       [0., 0., 0., 0.]])"
      ]
     },
     "execution_count": 23,
     "metadata": {},
     "output_type": "execute_result"
    }
   ],
   "source": [
    "# Porém é possível multidimensionar um array de zeros passando uma tupla com a dimensao desejada\n",
    "arr_z_multi = np.zeros((2, 4))\n",
    "arr_z_multi"
   ]
  },
  {
   "cell_type": "code",
   "execution_count": 25,
   "id": "b60bee08-82b1-4d0d-86e6-21094e3aa297",
   "metadata": {},
   "outputs": [
    {
     "data": {
      "text/plain": [
       "array([[[0., 0.],\n",
       "        [0., 0.],\n",
       "        [0., 0.]],\n",
       "\n",
       "       [[0., 0.],\n",
       "        [0., 0.],\n",
       "        [0., 0.]]])"
      ]
     },
     "execution_count": 25,
     "metadata": {},
     "output_type": "execute_result"
    }
   ],
   "source": [
    "# np.empty vai criar um array sem inicializa-lo especificamente\n",
    "np.empty((2, 3, 2)) # Não é seguro afirmar que será criado um array somente com zeros, np.empty pode pegar valores sujos da memória"
   ]
  },
  {
   "cell_type": "code",
   "execution_count": 26,
   "id": "04a4a8a2-97d9-4cf4-a48e-161a387a01c8",
   "metadata": {},
   "outputs": [
    {
     "data": {
      "text/plain": [
       "array([1., 1., 1., 1., 1.])"
      ]
     },
     "execution_count": 26,
     "metadata": {},
     "output_type": "execute_result"
    }
   ],
   "source": [
    "# Também existe a opcao de criar um array somente com 1's\n",
    "np.ones(5)"
   ]
  },
  {
   "cell_type": "code",
   "execution_count": 27,
   "id": "a9425233-3b2f-4706-9020-efc4d5df9d9c",
   "metadata": {},
   "outputs": [
    {
     "data": {
      "text/plain": [
       "array([[1., 1., 1., 1., 1.],\n",
       "       [1., 1., 1., 1., 1.],\n",
       "       [1., 1., 1., 1., 1.],\n",
       "       [1., 1., 1., 1., 1.]])"
      ]
     },
     "execution_count": 27,
     "metadata": {},
     "output_type": "execute_result"
    }
   ],
   "source": [
    "np.ones((4, 5))"
   ]
  },
  {
   "cell_type": "code",
   "execution_count": 28,
   "id": "6d0d8056-91c9-4918-8ad1-2cb14de74327",
   "metadata": {},
   "outputs": [
    {
     "data": {
      "text/plain": [
       "array([2, 2, 2])"
      ]
     },
     "execution_count": 28,
     "metadata": {},
     "output_type": "execute_result"
    }
   ],
   "source": [
    "# O np.full criara um array com o shape e o valor padrao passados\n",
    "np.full(3, 2)"
   ]
  },
  {
   "cell_type": "code",
   "execution_count": 32,
   "id": "6000fae3-5c15-4537-99c0-4992a88ae51d",
   "metadata": {},
   "outputs": [
    {
     "data": {
      "text/plain": [
       "array([['bb', 'bb', 'bb', 'bb', 'bb'],\n",
       "       ['bb', 'bb', 'bb', 'bb', 'bb'],\n",
       "       ['bb', 'bb', 'bb', 'bb', 'bb'],\n",
       "       ['bb', 'bb', 'bb', 'bb', 'bb']], dtype='<U2')"
      ]
     },
     "execution_count": 32,
     "metadata": {},
     "output_type": "execute_result"
    }
   ],
   "source": [
    "np.full((4,5), 'bb') # Cria um array multidimensional 4 por 5 com valores definidos como 'bb'"
   ]
  },
  {
   "cell_type": "code",
   "execution_count": 40,
   "id": "e241f2ca-149b-4caf-a38b-82978da2fdf6",
   "metadata": {},
   "outputs": [
    {
     "data": {
      "text/plain": [
       "array([[1., 0., 0., 0.],\n",
       "       [0., 1., 0., 0.],\n",
       "       [0., 0., 1., 0.],\n",
       "       [0., 0., 0., 1.]])"
      ]
     },
     "execution_count": 40,
     "metadata": {},
     "output_type": "execute_result"
    }
   ],
   "source": [
    "# Cria uma matriz identidiade quadrada N x N\n",
    "np.eye(10)\n",
    "np.identity(4)"
   ]
  },
  {
   "cell_type": "markdown",
   "id": "c958307c-b576-483b-9ac6-40645bde86ac",
   "metadata": {},
   "source": [
    "## Aritmética com arrays NumPy\n",
    "\n",
    "Os arrays são importantes porque permitem expressar operações em lote com dados sem ser preciso escrever nenhum loop for. Os usuários do NumPy chamam isso de vetorização"
   ]
  },
  {
   "cell_type": "code",
   "execution_count": 2,
   "id": "03c46fb9-3633-4246-a961-469715974c08",
   "metadata": {},
   "outputs": [],
   "source": [
    "import numpy as np\n",
    "arr = np.array([[1, 2, 3],[4, 5, 6]])"
   ]
  },
  {
   "cell_type": "code",
   "execution_count": 12,
   "id": "566494b4-71e4-4abb-8aa2-09fa393c7731",
   "metadata": {},
   "outputs": [
    {
     "data": {
      "text/plain": [
       "array([[ 3,  7, 12],\n",
       "       [ 2,  3,  9]])"
      ]
     },
     "execution_count": 12,
     "metadata": {},
     "output_type": "execute_result"
    }
   ],
   "source": [
    "arr"
   ]
  },
  {
   "cell_type": "code",
   "execution_count": 4,
   "id": "a90b7341-1275-4fdb-9e4d-e6d46c02dc3c",
   "metadata": {},
   "outputs": [
    {
     "data": {
      "text/plain": [
       "array([[ 1,  4,  9],\n",
       "       [16, 25, 36]])"
      ]
     },
     "execution_count": 4,
     "metadata": {},
     "output_type": "execute_result"
    }
   ],
   "source": [
    "arr * arr"
   ]
  },
  {
   "cell_type": "code",
   "execution_count": 5,
   "id": "e76e4000-2a0d-4d55-b276-7ceddbb0d287",
   "metadata": {},
   "outputs": [
    {
     "data": {
      "text/plain": [
       "array([[0, 0, 0],\n",
       "       [0, 0, 0]])"
      ]
     },
     "execution_count": 5,
     "metadata": {},
     "output_type": "execute_result"
    }
   ],
   "source": [
    "arr - arr"
   ]
  },
  {
   "cell_type": "code",
   "execution_count": 7,
   "id": "86ec22e4-b5f4-41ba-a698-b300d7fe44ad",
   "metadata": {},
   "outputs": [
    {
     "data": {
      "text/plain": [
       "array([[1.        , 0.5       , 0.33333333],\n",
       "       [0.25      , 0.2       , 0.16666667]])"
      ]
     },
     "execution_count": 7,
     "metadata": {},
     "output_type": "execute_result"
    }
   ],
   "source": [
    "# As operações aritméticas escalares propagam o argumento escalar para cada elemento do array, como na divisão abaixo\n",
    "1 / arr"
   ]
  },
  {
   "cell_type": "code",
   "execution_count": 8,
   "id": "aef904f7-69b1-4e78-bc21-8174129d643c",
   "metadata": {},
   "outputs": [
    {
     "data": {
      "text/plain": [
       "array([[ 1,  4,  9],\n",
       "       [16, 25, 36]])"
      ]
     },
     "execution_count": 8,
     "metadata": {},
     "output_type": "execute_result"
    }
   ],
   "source": [
    "arr ** 2"
   ]
  },
  {
   "cell_type": "code",
   "execution_count": 17,
   "id": "ad2d1227-5ec6-48d4-b66c-cfa04384195d",
   "metadata": {},
   "outputs": [
    {
     "data": {
      "text/plain": [
       "array([[False, False, False],\n",
       "       [False,  True, False]])"
      ]
     },
     "execution_count": 17,
     "metadata": {},
     "output_type": "execute_result"
    }
   ],
   "source": [
    "# As comparações entre arrays do mesmo tamanho gera arrays booleanos\n",
    "arr = np.array([[1, 2, 3],[4, 5, 6]])\n",
    "arr2 = np.array([[3, 7, 12],[2, 5, 9]])\n",
    "\n",
    "arr == arr2"
   ]
  },
  {
   "cell_type": "code",
   "execution_count": 18,
   "id": "3ea828ca-3e5a-4448-8d32-abb715267533",
   "metadata": {},
   "outputs": [
    {
     "data": {
      "text/plain": [
       "array([[ True,  True,  True],\n",
       "       [ True, False,  True]])"
      ]
     },
     "execution_count": 18,
     "metadata": {},
     "output_type": "execute_result"
    }
   ],
   "source": [
    "arr != arr2"
   ]
  },
  {
   "cell_type": "code",
   "execution_count": 19,
   "id": "34b491ee-ed2d-4904-b824-feeb754b6dca",
   "metadata": {},
   "outputs": [
    {
     "data": {
      "text/plain": [
       "array([[False, False, False],\n",
       "       [ True, False, False]])"
      ]
     },
     "execution_count": 19,
     "metadata": {},
     "output_type": "execute_result"
    }
   ],
   "source": [
    "arr > arr2"
   ]
  },
  {
   "cell_type": "code",
   "execution_count": 20,
   "id": "f2b7e5bc-7d8a-40ee-b14e-89371fc7a886",
   "metadata": {},
   "outputs": [
    {
     "data": {
      "text/plain": [
       "array([[False, False, False],\n",
       "       [ True,  True, False]])"
      ]
     },
     "execution_count": 20,
     "metadata": {},
     "output_type": "execute_result"
    }
   ],
   "source": [
    "arr >= arr2"
   ]
  },
  {
   "cell_type": "code",
   "execution_count": 22,
   "id": "9c3da436-d6d9-4f59-b809-a94cbbc761ae",
   "metadata": {},
   "outputs": [
    {
     "data": {
      "text/plain": [
       "array([0, 1, 2, 3, 4, 5, 6, 7, 8, 9])"
      ]
     },
     "execution_count": 22,
     "metadata": {},
     "output_type": "execute_result"
    }
   ],
   "source": [
    "# Fatiamento e acesso a indice de arrays unidimensionais é muito similar com os tipos built-in do python\n",
    "arr = np.arange(10)\n",
    "arr"
   ]
  },
  {
   "cell_type": "code",
   "execution_count": 25,
   "id": "82f8ecef-48db-443c-a98b-6ace405ee919",
   "metadata": {},
   "outputs": [
    {
     "data": {
      "text/plain": [
       "np.int64(8)"
      ]
     },
     "execution_count": 25,
     "metadata": {},
     "output_type": "execute_result"
    }
   ],
   "source": [
    "arr[8]"
   ]
  },
  {
   "cell_type": "code",
   "execution_count": 24,
   "id": "69963e51-f465-4ba9-8b25-5bf073e25bad",
   "metadata": {},
   "outputs": [
    {
     "data": {
      "text/plain": [
       "array([2, 3, 4, 5])"
      ]
     },
     "execution_count": 24,
     "metadata": {},
     "output_type": "execute_result"
    }
   ],
   "source": [
    "arr[2:6]"
   ]
  },
  {
   "cell_type": "code",
   "execution_count": 26,
   "id": "82bcdd6e-e4ab-4d88-8af8-fd4476196e94",
   "metadata": {},
   "outputs": [
    {
     "data": {
      "text/plain": [
       "array([2, 3, 4, 5, 6])"
      ]
     },
     "execution_count": 26,
     "metadata": {},
     "output_type": "execute_result"
    }
   ],
   "source": [
    "arr[2:-3]"
   ]
  },
  {
   "cell_type": "code",
   "execution_count": 29,
   "id": "21a54a64-0663-4ffb-8bde-e0db0dfb9156",
   "metadata": {},
   "outputs": [],
   "source": [
    "# Valor 12 foi propagado (feito um broadcast) para as chaves abaixo\n",
    "arr[5:8] = 12"
   ]
  },
  {
   "cell_type": "code",
   "execution_count": 28,
   "id": "c5e2ad92-1945-498b-beec-f5bfa36bd699",
   "metadata": {},
   "outputs": [
    {
     "data": {
      "text/plain": [
       "array([ 0,  1,  2,  3,  4, 12, 12, 12,  8,  9])"
      ]
     },
     "execution_count": 28,
     "metadata": {},
     "output_type": "execute_result"
    }
   ],
   "source": [
    "arr"
   ]
  },
  {
   "cell_type": "markdown",
   "id": "7df3bc24-83dd-4852-89e2-8efbeb24cb0c",
   "metadata": {},
   "source": [
    "### Uma diferança inicial importante em relação às listas internas do Python é que as fatias dos arrays são visualizações do array original. Isso significa que os dados não são copiados e qualqeur modificação feita na visualização será refletida no array de origem.\n",
    "\n",
    "### No exemplo abaixo, copiamos uma fatia do array original para *arr_slice*. Quando modificarmos arr_slice essas modificações serão refletidas em *arr*"
   ]
  },
  {
   "cell_type": "code",
   "execution_count": 31,
   "id": "3eb6bdc3-4952-423e-8d4b-1d0e40d60054",
   "metadata": {},
   "outputs": [
    {
     "data": {
      "text/plain": [
       "array([2, 3])"
      ]
     },
     "execution_count": 31,
     "metadata": {},
     "output_type": "execute_result"
    }
   ],
   "source": [
    "arr_slice = arr[2:4]\n",
    "arr_slice"
   ]
  },
  {
   "cell_type": "code",
   "execution_count": 32,
   "id": "9c027635-3901-4b6d-bddd-405555fe322e",
   "metadata": {},
   "outputs": [
    {
     "data": {
      "text/plain": [
       "array([  2, 400])"
      ]
     },
     "execution_count": 32,
     "metadata": {},
     "output_type": "execute_result"
    }
   ],
   "source": [
    "arr_slice[1] = 400\n",
    "arr_slice"
   ]
  },
  {
   "cell_type": "code",
   "execution_count": 33,
   "id": "1de131e6-e314-4398-bd40-103b863eacf6",
   "metadata": {},
   "outputs": [
    {
     "data": {
      "text/plain": [
       "array([  0,   1,   2, 400,   4,  12,  12,  12,   8,   9])"
      ]
     },
     "execution_count": 33,
     "metadata": {},
     "output_type": "execute_result"
    }
   ],
   "source": [
    "arr"
   ]
  },
  {
   "cell_type": "markdown",
   "id": "a02e6ffb-b29a-4b19-b349-d18ab722ea29",
   "metadata": {},
   "source": [
    "### A fatia vazia [:] faz atribuição a todos os elementos de um array"
   ]
  },
  {
   "cell_type": "code",
   "execution_count": 34,
   "id": "22602e92-dd46-4330-9690-2d8a17ba754b",
   "metadata": {},
   "outputs": [],
   "source": [
    "arr_slice[:] = 24"
   ]
  },
  {
   "cell_type": "code",
   "execution_count": 35,
   "id": "fda8f23d-2e84-4219-9df5-3d4c9d0c7a9a",
   "metadata": {},
   "outputs": [
    {
     "data": {
      "text/plain": [
       "array([24, 24])"
      ]
     },
     "execution_count": 35,
     "metadata": {},
     "output_type": "execute_result"
    }
   ],
   "source": [
    "arr_slice"
   ]
  },
  {
   "cell_type": "code",
   "execution_count": 36,
   "id": "a912f415-1d2e-4c02-a31a-7b960b9fb9b5",
   "metadata": {},
   "outputs": [
    {
     "data": {
      "text/plain": [
       "array([ 0,  1, 24, 24,  4, 12, 12, 12,  8,  9])"
      ]
     },
     "execution_count": 36,
     "metadata": {},
     "output_type": "execute_result"
    }
   ],
   "source": [
    "arr"
   ]
  },
  {
   "cell_type": "code",
   "execution_count": 38,
   "id": "3ea338e2-c4a8-45aa-9cdd-38311e6c109e",
   "metadata": {},
   "outputs": [
    {
     "data": {
      "text/plain": [
       "np.str_('c')"
      ]
     },
     "execution_count": 38,
     "metadata": {},
     "output_type": "execute_result"
    }
   ],
   "source": [
    "# Formas diferentes de acessar indices de arrays\n",
    "arr = np.array([['a', 'b', 'c'], ['d', 'e', 'f']])\n",
    "arr[0][2]"
   ]
  },
  {
   "cell_type": "code",
   "execution_count": 39,
   "id": "04529e71-3906-460f-bff2-2318cbf338a6",
   "metadata": {},
   "outputs": [
    {
     "data": {
      "text/plain": [
       "np.str_('c')"
      ]
     },
     "execution_count": 39,
     "metadata": {},
     "output_type": "execute_result"
    }
   ],
   "source": [
    "arr[0, 2]"
   ]
  },
  {
   "cell_type": "markdown",
   "id": "2fdcbce5-4b90-4272-acbe-e1ab341c2849",
   "metadata": {},
   "source": [
    "### É importante ressaltas que o fatiamento em arrays multidimensionais o comportamento é diferente de como fatiar uma lista por exemplo"
   ]
  },
  {
   "cell_type": "code",
   "execution_count": 43,
   "id": "41710165-6fa3-4927-ab0f-fccd50440119",
   "metadata": {},
   "outputs": [],
   "source": [
    "arr_multi = np.array([[[2, 3, 7],[9, 4, 22], [1, 3, 15]],[[6, 2, 1], [5, 15, 3], [0, 3, 6]]])"
   ]
  },
  {
   "cell_type": "code",
   "execution_count": 45,
   "id": "8d0008f7-7c47-4f6c-8b8d-860c4f926769",
   "metadata": {},
   "outputs": [
    {
     "data": {
      "text/plain": [
       "(2, 3, 3)"
      ]
     },
     "execution_count": 45,
     "metadata": {},
     "output_type": "execute_result"
    }
   ],
   "source": [
    "arr_multi.shape"
   ]
  },
  {
   "cell_type": "code",
   "execution_count": 52,
   "id": "f85963b2-fbea-4cfe-a9bb-32203961ddbe",
   "metadata": {},
   "outputs": [
    {
     "data": {
      "text/plain": [
       "array([[ 9,  4, 22],\n",
       "       [ 5, 15,  3]])"
      ]
     },
     "execution_count": 52,
     "metadata": {},
     "output_type": "execute_result"
    }
   ],
   "source": [
    "# Pega as duas dimensões e somente a segunda linha de cada\n",
    "arr_multi[:2, 1]"
   ]
  },
  {
   "cell_type": "code",
   "execution_count": 54,
   "id": "e13ef88f-1920-45db-a84f-ced64a9956d1",
   "metadata": {},
   "outputs": [
    {
     "data": {
      "text/plain": [
       "array([[ 1,  3, 15],\n",
       "       [ 0,  3,  6]])"
      ]
     },
     "execution_count": 54,
     "metadata": {},
     "output_type": "execute_result"
    }
   ],
   "source": [
    "# Pega as duas dimensões e somente a última linha\n",
    "arr_multi[:2, 2]"
   ]
  },
  {
   "cell_type": "code",
   "execution_count": 56,
   "id": "bac61302-bec1-4241-b880-ac7a694d4092",
   "metadata": {},
   "outputs": [
    {
     "data": {
      "text/plain": [
       "array([[[ 9,  4, 22],\n",
       "        [ 1,  3, 15]],\n",
       "\n",
       "       [[ 5, 15,  3],\n",
       "        [ 0,  3,  6]]])"
      ]
     },
     "execution_count": 56,
     "metadata": {},
     "output_type": "execute_result"
    }
   ],
   "source": [
    "arr_multi[:2, 1:]"
   ]
  },
  {
   "cell_type": "code",
   "execution_count": 60,
   "id": "36656013-6ae5-40be-8f23-792f48750cf9",
   "metadata": {},
   "outputs": [],
   "source": [
    "import numpy as nd\n",
    "arr2d = nd.array([[1,2,3],[4,5,6],[7,8,9]])"
   ]
  },
  {
   "cell_type": "code",
   "execution_count": 61,
   "id": "750b96d3-18f8-411f-b0ba-c074402127c5",
   "metadata": {},
   "outputs": [
    {
     "data": {
      "text/plain": [
       "array([[1, 2, 3],\n",
       "       [4, 5, 6],\n",
       "       [7, 8, 9]])"
      ]
     },
     "execution_count": 61,
     "metadata": {},
     "output_type": "execute_result"
    }
   ],
   "source": [
    "arr2d"
   ]
  },
  {
   "cell_type": "code",
   "execution_count": 62,
   "id": "d793196b-b7b6-438e-a296-c755fde2eb63",
   "metadata": {},
   "outputs": [
    {
     "data": {
      "text/plain": [
       "array([[1, 2, 3],\n",
       "       [4, 5, 6]])"
      ]
     },
     "execution_count": 62,
     "metadata": {},
     "output_type": "execute_result"
    }
   ],
   "source": [
    "# Pega as duas primeiras linhas\n",
    "arr2d[:2]"
   ]
  },
  {
   "cell_type": "code",
   "execution_count": 63,
   "id": "08a9fb4e-909a-40a6-af94-310d11492709",
   "metadata": {},
   "outputs": [
    {
     "data": {
      "text/plain": [
       "array([[2, 3],\n",
       "       [5, 6]])"
      ]
     },
     "execution_count": 63,
     "metadata": {},
     "output_type": "execute_result"
    }
   ],
   "source": [
    "# pega as duas primeiras linhas a partir do indice 1, excluindo (1, 4)\n",
    "arr2d[:2, 1:]"
   ]
  },
  {
   "cell_type": "code",
   "execution_count": 65,
   "id": "b3992151-169d-4eff-ab9b-c86fc5501b73",
   "metadata": {},
   "outputs": [
    {
     "data": {
      "text/plain": [
       "array([[7, 8, 9]])"
      ]
     },
     "execution_count": 65,
     "metadata": {},
     "output_type": "execute_result"
    }
   ],
   "source": [
    "# Pega apenas os elementos da terceira linha\n",
    "arr2d[2:, :]"
   ]
  },
  {
   "cell_type": "code",
   "execution_count": 68,
   "id": "fffca24c-2be3-4d2d-ad4e-6f11c5c47157",
   "metadata": {},
   "outputs": [
    {
     "data": {
      "text/plain": [
       "array([[4, 5]])"
      ]
     },
     "execution_count": 68,
     "metadata": {},
     "output_type": "execute_result"
    }
   ],
   "source": [
    "# Pega apenas o primeiro e segundo elemento da segunda linha\n",
    "arr2d[1:2, :2]"
   ]
  },
  {
   "cell_type": "markdown",
   "id": "c5249060-8b3b-4c69-ba54-c6cbba96380d",
   "metadata": {},
   "source": [
    "## Indexação Booleana\n"
   ]
  },
  {
   "cell_type": "code",
   "execution_count": 13,
   "id": "ade3402d-16a4-4468-bbe6-122cefe82347",
   "metadata": {},
   "outputs": [],
   "source": [
    "import numpy as np\n",
    "\n",
    "names = np.array(['Bob', 'Joe', 'Will', 'Bob', 'Will', 'Joe', 'Joe'])\n",
    "\n",
    "data = np.array([[4, 7], [0, 2], [-5, 6], [0, 0], [1, 2], [-12,-4], [3, 4]])"
   ]
  },
  {
   "cell_type": "code",
   "execution_count": 7,
   "id": "b9233cff-200e-4918-aa58-e61250825733",
   "metadata": {},
   "outputs": [
    {
     "data": {
      "text/plain": [
       "array([[  4,   7],\n",
       "       [  0,   2],\n",
       "       [ -5,   6],\n",
       "       [  0,   0],\n",
       "       [  1,   2],\n",
       "       [-12,  -4],\n",
       "       [  3,   4]])"
      ]
     },
     "execution_count": 7,
     "metadata": {},
     "output_type": "execute_result"
    }
   ],
   "source": [
    "names\n",
    "data"
   ]
  },
  {
   "cell_type": "code",
   "execution_count": 8,
   "id": "57ca5f89-ba8e-47e2-b0a6-f311dc8971fd",
   "metadata": {},
   "outputs": [
    {
     "data": {
      "text/plain": [
       "array([ True, False, False,  True, False, False, False])"
      ]
     },
     "execution_count": 8,
     "metadata": {},
     "output_type": "execute_result"
    }
   ],
   "source": [
    "names == \"Bob\""
   ]
  },
  {
   "cell_type": "markdown",
   "id": "0c5aef70-78bd-4d96-8820-f001408788db",
   "metadata": {},
   "source": [
    "### Considerando os arrays acima, podemos querer indexar um array ao outro. Por exemplo, procurar no array *data* as mesmas posições as quais corresponde ao nome 'Bob'. Veja o exemplo abaixo:"
   ]
  },
  {
   "cell_type": "code",
   "execution_count": 9,
   "id": "08a5fb38-30bd-4824-a9cd-a32582a443f5",
   "metadata": {},
   "outputs": [
    {
     "data": {
      "text/plain": [
       "array([[4, 7],\n",
       "       [0, 0]])"
      ]
     },
     "execution_count": 9,
     "metadata": {},
     "output_type": "execute_result"
    }
   ],
   "source": [
    "data[names == 'Bob']"
   ]
  },
  {
   "cell_type": "markdown",
   "id": "39b7c098-8cf3-4218-bdb1-c4a0bce40093",
   "metadata": {},
   "source": [
    "### Como é possível ver, apenas as posições 0 e 3 foram mostradas. Isso pode ser interessante para casos mais complexos."
   ]
  },
  {
   "cell_type": "code",
   "execution_count": 10,
   "id": "70adf1a2-c361-4c30-a966-7fe3370cbd3d",
   "metadata": {},
   "outputs": [
    {
     "data": {
      "text/plain": [
       "array([[6],\n",
       "       [2]])"
      ]
     },
     "execution_count": 10,
     "metadata": {},
     "output_type": "execute_result"
    }
   ],
   "source": [
    "# Indexando e fatiando\n",
    "data[names == 'Will', 1:]"
   ]
  },
  {
   "cell_type": "code",
   "execution_count": 11,
   "id": "00ad4be6-9e0b-4262-9ca2-76328d256add",
   "metadata": {},
   "outputs": [
    {
     "data": {
      "text/plain": [
       "array([ 2, -4,  4])"
      ]
     },
     "execution_count": 11,
     "metadata": {},
     "output_type": "execute_result"
    }
   ],
   "source": [
    "# Mais um exemplo\n",
    "data[names == 'Joe', 1]"
   ]
  },
  {
   "cell_type": "code",
   "execution_count": 12,
   "id": "9c655823-771c-4143-9fe4-0f0fbeab739c",
   "metadata": {},
   "outputs": [
    {
     "data": {
      "text/plain": [
       "array([ True,  True, False,  True, False,  True,  True])"
      ]
     },
     "execution_count": 12,
     "metadata": {},
     "output_type": "execute_result"
    }
   ],
   "source": [
    "# Outros exemplos utilizando o negar != ou o til (˜)\n",
    "# NOTE: Por algum motivo o til não tá workando\n",
    "names != 'Will'"
   ]
  },
  {
   "cell_type": "code",
   "execution_count": 14,
   "id": "7a2401c7-47a2-44ec-b55c-40061e7b8471",
   "metadata": {},
   "outputs": [
    {
     "data": {
      "text/plain": [
       "array([[  0,   2],\n",
       "       [ -5,   6],\n",
       "       [  1,   2],\n",
       "       [-12,  -4],\n",
       "       [  3,   4]])"
      ]
     },
     "execution_count": 14,
     "metadata": {},
     "output_type": "execute_result"
    }
   ],
   "source": [
    "data[names != \"Bob\"]"
   ]
  },
  {
   "cell_type": "code",
   "execution_count": 15,
   "id": "0dfb0a15-6742-41c8-838d-0b7cde074fcc",
   "metadata": {},
   "outputs": [],
   "source": [
    "cond = names == \"Bob\""
   ]
  },
  {
   "cell_type": "markdown",
   "id": "e0808f9c-151e-4734-8fc0-f0e448d7be2b",
   "metadata": {},
   "source": [
    "˜cond"
   ]
  },
  {
   "cell_type": "code",
   "execution_count": 18,
   "id": "14ea940e-b948-490c-8bd8-ae9b784a0dd5",
   "metadata": {},
   "outputs": [
    {
     "data": {
      "text/plain": [
       "array([ True, False, False,  True, False, False, False])"
      ]
     },
     "execution_count": 18,
     "metadata": {},
     "output_type": "execute_result"
    }
   ],
   "source": [
    "cond"
   ]
  },
  {
   "cell_type": "markdown",
   "id": "81a2aac4-b950-4c3f-9bd2-3b7d17847e28",
   "metadata": {},
   "source": [
    "### É possível selecionar dois dos três nomes e combinar condições utlizando os operadores aritméticos booleanos & (and) e | (or)\n",
    ">NOTE: as palavras 'and' e 'or' utilizadas em condicionais normais do python não funcionam com arrays booleanos"
   ]
  },
  {
   "cell_type": "code",
   "execution_count": 21,
   "id": "fc527429-e21b-492a-9f85-8af157aa4ddd",
   "metadata": {},
   "outputs": [],
   "source": [
    "mas = (names == \"Bob\") | (names == \"Will\") # só náo vai pegar o Joe"
   ]
  },
  {
   "cell_type": "code",
   "execution_count": 22,
   "id": "b245b2a5-a6a9-4bcf-ba26-c2cfce39f359",
   "metadata": {},
   "outputs": [
    {
     "data": {
      "text/plain": [
       "array([ True, False,  True,  True,  True, False, False])"
      ]
     },
     "execution_count": 22,
     "metadata": {},
     "output_type": "execute_result"
    }
   ],
   "source": [
    "mas"
   ]
  },
  {
   "cell_type": "code",
   "execution_count": 23,
   "id": "fd8f8ce5-7b73-4ff9-af81-ff0b7d7aafad",
   "metadata": {},
   "outputs": [
    {
     "data": {
      "text/plain": [
       "array([[ 4,  7],\n",
       "       [-5,  6],\n",
       "       [ 0,  0],\n",
       "       [ 1,  2]])"
      ]
     },
     "execution_count": 23,
     "metadata": {},
     "output_type": "execute_result"
    }
   ],
   "source": [
    "data[mas]"
   ]
  },
  {
   "cell_type": "code",
   "execution_count": 24,
   "id": "fe79b470-84fd-4081-8192-284ec137bd9f",
   "metadata": {},
   "outputs": [],
   "source": [
    "### Se eu quiser transformar todos os valores menores que 0 (negativos) de data em 0, basta fazer a seguinte operação\n",
    "data[data < 0] = 0 # Todos os valores menores que 0 serão 0"
   ]
  },
  {
   "cell_type": "code",
   "execution_count": 6,
   "id": "381bc8bb-5b97-4b06-9515-b743ce27ffb3",
   "metadata": {},
   "outputs": [
    {
     "data": {
      "text/plain": [
       "array([[  4,   7],\n",
       "       [  0,   2],\n",
       "       [ -5,   6],\n",
       "       [  0,   0],\n",
       "       [  1,   2],\n",
       "       [-12,  -4],\n",
       "       [  3,   4]])"
      ]
     },
     "execution_count": 6,
     "metadata": {},
     "output_type": "execute_result"
    }
   ],
   "source": [
    "data"
   ]
  },
  {
   "cell_type": "markdown",
   "id": "d5bf18e2-96bf-4f59-9cf0-465d4bac3c3a",
   "metadata": {},
   "source": [
    "## VERY IMPORTANT NOTE: Como visto acima a operação quer zerou os valores negativos agiu diretamente em cima do array 'data'. Ou seja, caso queira manter os valores originais, crie uma cópia"
   ]
  },
  {
   "cell_type": "markdown",
   "id": "85f85502-58f3-455d-a430-88ec1f0d218c",
   "metadata": {},
   "source": [
    "## VOU BOTAR EM CAPS MESMO. GERALMENTE QUANDO EU TRABALHEI COM PANDAS (POR EXEMPLO) EU SEMPRE CRIEI UMA COPIA DO DATAFRAME ORIGINAL, ALGO COMO (df_copy = df.copy()) NÃO LEMBRO SE É ESSE O COMANDO, mas acho que é.\n",
    "\n",
    "## ISTO É DEVERAS IMPORTANTE E CRUCIAL PARA NÃO AVACALHAR O DATAFRAME ORIGINAL\n"
   ]
  },
  {
   "cell_type": "code",
   "execution_count": 16,
   "id": "463d149d-d633-4818-8100-68c469dbc997",
   "metadata": {},
   "outputs": [],
   "source": [
    "data_copy = data # 🟥🟥🟥 NÃO FAÇA ISSO PARA CRIAR UMA NOVA CÓPIA, \n",
    "                 # ISSO MANTÉM A REFERÊNCIA E TUDO QUE VOCÊ ALTERAR EM data_copy VAI ALTERAR TAMBÉM EM data"
   ]
  },
  {
   "cell_type": "code",
   "execution_count": 17,
   "id": "fdf53e3a-1418-4220-8dcc-ed2215bb9423",
   "metadata": {},
   "outputs": [],
   "source": [
    "data_copy = data.copy() # 🟩🟩🟩 ASSIM PODE, ISSO GERA UM OBJETO COMPLETAMENTE INDEPENDENTE DE data"
   ]
  },
  {
   "cell_type": "code",
   "execution_count": 18,
   "id": "2479c5cd-71f0-41fc-ae1f-f51f609191ea",
   "metadata": {},
   "outputs": [],
   "source": [
    "data_copy[data_copy < 0] = 0"
   ]
  },
  {
   "cell_type": "code",
   "execution_count": 19,
   "id": "a0ab8919-be73-4c5e-882e-81da282197a6",
   "metadata": {},
   "outputs": [
    {
     "data": {
      "text/plain": [
       "array([[4, 7],\n",
       "       [0, 2],\n",
       "       [0, 6],\n",
       "       [0, 0],\n",
       "       [1, 2],\n",
       "       [0, 0],\n",
       "       [3, 4]])"
      ]
     },
     "execution_count": 19,
     "metadata": {},
     "output_type": "execute_result"
    }
   ],
   "source": [
    "data_copy"
   ]
  },
  {
   "cell_type": "code",
   "execution_count": 20,
   "id": "63722e8a-ec7a-4ca0-aa38-d2bd8290865e",
   "metadata": {},
   "outputs": [
    {
     "data": {
      "text/plain": [
       "array([[  4,   7],\n",
       "       [  0,   2],\n",
       "       [ -5,   6],\n",
       "       [  0,   0],\n",
       "       [  1,   2],\n",
       "       [-12,  -4],\n",
       "       [  3,   4]])"
      ]
     },
     "execution_count": 20,
     "metadata": {},
     "output_type": "execute_result"
    }
   ],
   "source": [
    "data"
   ]
  },
  {
   "cell_type": "markdown",
   "id": "87053041-55d5-4f55-9f34-2962434adb70",
   "metadata": {},
   "source": [
    "# INDEXAÇÃO SOFISTICADA (fancy indexing)\n",
    "\n",
    "Este tipo de indexação é feito com o uso de arrays de interios."
   ]
  },
  {
   "cell_type": "code",
   "execution_count": 23,
   "id": "f396ca86-4733-4931-83bf-d86aa85db15f",
   "metadata": {},
   "outputs": [
    {
     "data": {
      "text/plain": [
       "array([[0., 0., 0., 0.],\n",
       "       [0., 0., 0., 0.],\n",
       "       [0., 0., 0., 0.],\n",
       "       [0., 0., 0., 0.],\n",
       "       [0., 0., 0., 0.],\n",
       "       [0., 0., 0., 0.],\n",
       "       [0., 0., 0., 0.],\n",
       "       [0., 0., 0., 0.]])"
      ]
     },
     "execution_count": 23,
     "metadata": {},
     "output_type": "execute_result"
    }
   ],
   "source": [
    "arr = np.zeros((8, 4)) # Cria um array 8 x 4 e preenche com zero\n",
    "arr"
   ]
  },
  {
   "cell_type": "code",
   "execution_count": 26,
   "id": "ccb2e24c-08df-42c1-995d-706d10eb4e9d",
   "metadata": {},
   "outputs": [],
   "source": [
    "for i in range(8): # itera sobre o array anterior e preenche cada 1 dos 8 arrays com seu index como valor\n",
    "    arr[i] = i"
   ]
  },
  {
   "cell_type": "code",
   "execution_count": 25,
   "id": "f6f694be-7d0a-4981-a063-2e58cad89ccc",
   "metadata": {},
   "outputs": [
    {
     "data": {
      "text/plain": [
       "array([[0., 0., 0., 0.],\n",
       "       [1., 1., 1., 1.],\n",
       "       [2., 2., 2., 2.],\n",
       "       [3., 3., 3., 3.],\n",
       "       [4., 4., 4., 4.],\n",
       "       [5., 5., 5., 5.],\n",
       "       [6., 6., 6., 6.],\n",
       "       [7., 7., 7., 7.]])"
      ]
     },
     "execution_count": 25,
     "metadata": {},
     "output_type": "execute_result"
    }
   ],
   "source": [
    "arr"
   ]
  },
  {
   "cell_type": "code",
   "execution_count": 27,
   "id": "4418b1e6-290f-4139-9471-0fd6c3f3c423",
   "metadata": {},
   "outputs": [
    {
     "data": {
      "text/plain": [
       "array([[4., 4., 4., 4.],\n",
       "       [3., 3., 3., 3.],\n",
       "       [0., 0., 0., 0.],\n",
       "       [6., 6., 6., 6.]])"
      ]
     },
     "execution_count": 27,
     "metadata": {},
     "output_type": "execute_result"
    }
   ],
   "source": [
    "# Agora para selecionar um subconjunto das linhas em uma ordem específica, basta passar uma lista ou um ndarray de inteiros especificando a ordem desejada\n",
    "\n",
    "arr[[4, 3, 0, 6]]"
   ]
  },
  {
   "cell_type": "code",
   "execution_count": 28,
   "id": "58849f02-3d48-44a4-a3e7-872aa851c74e",
   "metadata": {},
   "outputs": [
    {
     "data": {
      "text/plain": [
       "array([[5., 5., 5., 5.],\n",
       "       [3., 3., 3., 3.],\n",
       "       [1., 1., 1., 1.]])"
      ]
     },
     "execution_count": 28,
     "metadata": {},
     "output_type": "execute_result"
    }
   ],
   "source": [
    "# Com indices negativos a ordem se inverte (como nos fatiamentos dos built-in types)\n",
    "arr[[-3,-5,-7]]"
   ]
  },
  {
   "cell_type": "code",
   "execution_count": 34,
   "id": "9ebdaa3b-6d0f-430f-bf83-e07d80e927c3",
   "metadata": {},
   "outputs": [
    {
     "data": {
      "text/plain": [
       "array([[0., 0., 0., 0.],\n",
       "       [1., 1., 1., 1.],\n",
       "       [2., 2., 2., 2.],\n",
       "       [3., 3., 3., 3.],\n",
       "       [4., 4., 4., 4.],\n",
       "       [5., 5., 5., 5.],\n",
       "       [6., 6., 6., 6.],\n",
       "       [7., 7., 7., 7.]])"
      ]
     },
     "execution_count": 34,
     "metadata": {},
     "output_type": "execute_result"
    }
   ],
   "source": [
    "arr[[0, 1, 2, 3, 4, 5, 6, 7]]"
   ]
  },
  {
   "cell_type": "code",
   "execution_count": 35,
   "id": "2a36a5ae-eae4-4244-b104-3070039d5965",
   "metadata": {},
   "outputs": [],
   "source": [
    "arr = np.arange(32).reshape((8, 4)) # Cria um array com 32 posições em um formato 8 x 4"
   ]
  },
  {
   "cell_type": "code",
   "execution_count": 36,
   "id": "57ee9706-edfc-434c-941a-35a259131600",
   "metadata": {},
   "outputs": [
    {
     "data": {
      "text/plain": [
       "array([[ 0,  1,  2,  3],\n",
       "       [ 4,  5,  6,  7],\n",
       "       [ 8,  9, 10, 11],\n",
       "       [12, 13, 14, 15],\n",
       "       [16, 17, 18, 19],\n",
       "       [20, 21, 22, 23],\n",
       "       [24, 25, 26, 27],\n",
       "       [28, 29, 30, 31]])"
      ]
     },
     "execution_count": 36,
     "metadata": {},
     "output_type": "execute_result"
    }
   ],
   "source": [
    "arr"
   ]
  },
  {
   "cell_type": "code",
   "execution_count": 40,
   "id": "b0e80716-99e8-41c1-bdd2-92c14e919a5e",
   "metadata": {},
   "outputs": [
    {
     "data": {
      "text/plain": [
       "array([ 4, 23, 29, 10])"
      ]
     },
     "execution_count": 40,
     "metadata": {},
     "output_type": "execute_result"
    }
   ],
   "source": [
    "arr[[1, 5, 7, 2], [0, 3, 1, 2]] # Para entender o valor selecionado na saida junte o elemento correspondente de cada array"
   ]
  },
  {
   "cell_type": "markdown",
   "id": "82b01fde-c82c-4435-9e33-037bf4deadfa",
   "metadata": {},
   "source": [
    "### A saída desse gonócio é sempre unidimensional\n",
    "\n",
    "### Para um comportamento diferente, como selecionar um subconjunto das linhas e colunas da matriz"
   ]
  },
  {
   "cell_type": "code",
   "execution_count": 42,
   "id": "6d461548-d1e7-45de-9a39-7981ab685dbf",
   "metadata": {},
   "outputs": [
    {
     "data": {
      "text/plain": [
       "array([[ 4,  7,  5,  6],\n",
       "       [20, 23, 21, 22],\n",
       "       [28, 31, 29, 30],\n",
       "       [ 8, 11,  9, 10]])"
      ]
     },
     "execution_count": 42,
     "metadata": {},
     "output_type": "execute_result"
    }
   ],
   "source": [
    "arr[[1, 5, 7, 2]][:, [0, 3, 1, 2]] # Basicamente ele mapeia de um jeito diferente. [[linhas]][:[colunas]]"
   ]
  },
  {
   "cell_type": "markdown",
   "id": "f00e735a-b543-4372-830d-cb510c5346fb",
   "metadata": {},
   "source": [
    "### Se tentar atribuir valores na indexação sofisticada isso afetará o array original"
   ]
  },
  {
   "cell_type": "code",
   "execution_count": 43,
   "id": "1d58bd9c-5816-4d55-b18f-387d3f376fae",
   "metadata": {},
   "outputs": [
    {
     "data": {
      "text/plain": [
       "array([ 4, 23, 29, 10])"
      ]
     },
     "execution_count": 43,
     "metadata": {},
     "output_type": "execute_result"
    }
   ],
   "source": [
    "arr[[1, 5, 7, 2], [0, 3, 1, 2]]"
   ]
  },
  {
   "cell_type": "code",
   "execution_count": 44,
   "id": "5e1f2f51-18c9-4636-9473-9df9c0bb38e2",
   "metadata": {},
   "outputs": [],
   "source": [
    "arr[[1, 5, 7, 2], [0, 3, 1, 2]] = 0"
   ]
  },
  {
   "cell_type": "code",
   "execution_count": 46,
   "id": "cdb7feb7-3207-4e3a-82c9-28474d467e8d",
   "metadata": {},
   "outputs": [
    {
     "data": {
      "text/plain": [
       "array([[ 0,  1,  2,  3],\n",
       "       [ 0,  5,  6,  7],\n",
       "       [ 8,  9,  0, 11],\n",
       "       [12, 13, 14, 15],\n",
       "       [16, 17, 18, 19],\n",
       "       [20, 21, 22,  0],\n",
       "       [24, 25, 26, 27],\n",
       "       [28,  0, 30, 31]])"
      ]
     },
     "execution_count": 46,
     "metadata": {},
     "output_type": "execute_result"
    }
   ],
   "source": [
    "arr"
   ]
  },
  {
   "cell_type": "markdown",
   "id": "5d926f46-e2a9-437f-adf7-05d54a1f4547",
   "metadata": {},
   "source": [
    "## Transposição de Array e troca de eixos\n",
    "\n",
    "A transposição é uma forma especial de reformatação que retorna dados subjacentes, sem fazer nenhuma cópia. Utiliza-se o método transpose com os arrays."
   ]
  },
  {
   "cell_type": "code",
   "execution_count": 2,
   "id": "1c67ba1e-cf66-4aa0-b985-86f7d925239b",
   "metadata": {},
   "outputs": [],
   "source": [
    "import numpy as np\n",
    "arr = np.arange(15).reshape((3, 5))"
   ]
  },
  {
   "cell_type": "code",
   "execution_count": 3,
   "id": "a0f23e68-b7b8-4318-a875-26b974a000cc",
   "metadata": {},
   "outputs": [
    {
     "data": {
      "text/plain": [
       "array([[ 0,  1,  2,  3,  4],\n",
       "       [ 5,  6,  7,  8,  9],\n",
       "       [10, 11, 12, 13, 14]])"
      ]
     },
     "execution_count": 3,
     "metadata": {},
     "output_type": "execute_result"
    }
   ],
   "source": [
    "arr"
   ]
  },
  {
   "cell_type": "code",
   "execution_count": 4,
   "id": "691711a9-e3ab-47bd-8444-5cb1070819d2",
   "metadata": {},
   "outputs": [
    {
     "data": {
      "text/plain": [
       "array([[ 0,  5, 10],\n",
       "       [ 1,  6, 11],\n",
       "       [ 2,  7, 12],\n",
       "       [ 3,  8, 13],\n",
       "       [ 4,  9, 14]])"
      ]
     },
     "execution_count": 4,
     "metadata": {},
     "output_type": "execute_result"
    }
   ],
   "source": [
    "arr.T # Transpose"
   ]
  },
  {
   "cell_type": "code",
   "execution_count": 6,
   "id": "f0a044b3-627f-4fde-b542-458b38bac022",
   "metadata": {},
   "outputs": [],
   "source": [
    "arr = np.array([[0, 1, 0], [1, 2, -2], [6, 3, 2], [-1, 0, -1], [1, 0, 1]])"
   ]
  },
  {
   "cell_type": "code",
   "execution_count": 7,
   "id": "032b82f9-6727-438a-994c-2f3df2d4c728",
   "metadata": {},
   "outputs": [
    {
     "data": {
      "text/plain": [
       "array([[ 0,  1,  0],\n",
       "       [ 1,  2, -2],\n",
       "       [ 6,  3,  2],\n",
       "       [-1,  0, -1],\n",
       "       [ 1,  0,  1]])"
      ]
     },
     "execution_count": 7,
     "metadata": {},
     "output_type": "execute_result"
    }
   ],
   "source": [
    "arr"
   ]
  },
  {
   "cell_type": "code",
   "execution_count": 10,
   "id": "1fbc1fce-34b1-4dd7-b896-ca84e86b22a0",
   "metadata": {},
   "outputs": [
    {
     "data": {
      "text/plain": [
       "array([[39, 20, 12],\n",
       "       [20, 14,  2],\n",
       "       [12,  2, 10]])"
      ]
     },
     "execution_count": 10,
     "metadata": {},
     "output_type": "execute_result"
    }
   ],
   "source": [
    "# Calculando o produto de uma matriz interna, com np.dot\n",
    "# Os parametros são o array normal e o array transposto\n",
    "np.dot(arr.T, arr)"
   ]
  },
  {
   "cell_type": "code",
   "execution_count": 11,
   "id": "16f5443d-86da-4765-8f74-0adfec56f3b2",
   "metadata": {},
   "outputs": [],
   "source": [
    "# É possível também utilizar o operador infixo @ para multiplicar matrizes"
   ]
  },
  {
   "cell_type": "code",
   "execution_count": 12,
   "id": "b7b8effd-8524-4973-90b8-a97c4022a701",
   "metadata": {},
   "outputs": [
    {
     "data": {
      "text/plain": [
       "array([[39, 20, 12],\n",
       "       [20, 14,  2],\n",
       "       [12,  2, 10]])"
      ]
     },
     "execution_count": 12,
     "metadata": {},
     "output_type": "execute_result"
    }
   ],
   "source": [
    "arr.T @ arr"
   ]
  },
  {
   "cell_type": "code",
   "execution_count": 13,
   "id": "c986e99e-a8b7-40a7-9088-59d4b5583a4b",
   "metadata": {},
   "outputs": [
    {
     "data": {
      "text/plain": [
       "array([[ 0,  1,  0],\n",
       "       [ 1,  2, -2],\n",
       "       [ 6,  3,  2],\n",
       "       [-1,  0, -1],\n",
       "       [ 1,  0,  1]])"
      ]
     },
     "execution_count": 13,
     "metadata": {},
     "output_type": "execute_result"
    }
   ],
   "source": [
    "# Existe o método swapaxes, que recebe um par de números de eixos e troca o número de eixos para reorganizar os dados\n",
    "arr"
   ]
  },
  {
   "cell_type": "code",
   "execution_count": 14,
   "id": "1c3a2b95-1a6b-4632-b49d-0da0be3ac212",
   "metadata": {},
   "outputs": [
    {
     "data": {
      "text/plain": [
       "array([[ 0,  1,  6, -1,  1],\n",
       "       [ 1,  2,  3,  0,  0],\n",
       "       [ 0, -2,  2, -1,  1]])"
      ]
     },
     "execution_count": 14,
     "metadata": {},
     "output_type": "execute_result"
    }
   ],
   "source": [
    "arr.swapaxes(0, 1)"
   ]
  },
  {
   "cell_type": "markdown",
   "id": "44cdbcc3-97ce-4d49-a8fd-41d92176ea3f",
   "metadata": {},
   "source": [
    "## Geração de Números Pseudo-Aleatórios\n",
    "O módulo numpy.random complementa o módulo random interno (built-in) do Python, para a geração eficiente de arrays de inteiros com valores de amostras de muitos tipos de distribuições de probabilidade. Por exemplo, vocë pode obter uma arra 4 x 4 de amostras da distribuição normal padráo usando numpy.random.standard_normal"
   ]
  },
  {
   "cell_type": "code",
   "execution_count": 16,
   "id": "a6db27a9-e6e1-4085-8213-d345d6d2743b",
   "metadata": {},
   "outputs": [],
   "source": [
    "samples = np.random.standard_normal(size=(4, 4))"
   ]
  },
  {
   "cell_type": "code",
   "execution_count": 17,
   "id": "26de7b80-3b51-47e5-80cb-570c4f0c0028",
   "metadata": {},
   "outputs": [
    {
     "data": {
      "text/plain": [
       "array([[ 0.18297353, -0.2476076 ,  0.33702014, -1.15287738],\n",
       "       [-1.53971212, -0.88082282,  0.21562765,  0.86114517],\n",
       "       [-0.48220963, -0.49920021, -0.71773677,  0.61291113],\n",
       "       [-0.5741862 , -1.35941369,  0.43198433, -1.64938292]])"
      ]
     },
     "execution_count": 17,
     "metadata": {},
     "output_type": "execute_result"
    }
   ],
   "source": [
    "samples"
   ]
  },
  {
   "cell_type": "code",
   "execution_count": 18,
   "id": "a50904ea-2c48-47d4-993c-2726481a47a1",
   "metadata": {},
   "outputs": [],
   "source": [
    "# np.random é acima de uma ordem de grandeza mais rápido para a geração de amostras muito grandes\n",
    "from random import normalvariate\n",
    "\n",
    "N = 1_000_000"
   ]
  },
  {
   "cell_type": "code",
   "execution_count": 19,
   "id": "52ef638c-154d-4680-9527-9646884f88ec",
   "metadata": {},
   "outputs": [
    {
     "name": "stdout",
     "output_type": "stream",
     "text": [
      "427 ms ± 5.55 ms per loop (mean ± std. dev. of 7 runs, 1 loop each)\n"
     ]
    }
   ],
   "source": [
    "%timeit samples = [normalvariate(0,1) for _ in range(N)]"
   ]
  },
  {
   "cell_type": "code",
   "execution_count": 20,
   "id": "dd2afe16-3384-4df1-abdb-76c16fc2a0e7",
   "metadata": {},
   "outputs": [
    {
     "name": "stdout",
     "output_type": "stream",
     "text": [
      "27.4 ms ± 391 μs per loop (mean ± std. dev. of 7 runs, 10 loops each)\n"
     ]
    }
   ],
   "source": [
    "%timeit np.random.standard_normal(N)"
   ]
  },
  {
   "cell_type": "code",
   "execution_count": null,
   "id": "f1e4b528-25a5-4ed2-b7a1-7c9fda9184e4",
   "metadata": {},
   "outputs": [],
   "source": []
  }
 ],
 "metadata": {
  "kernelspec": {
   "display_name": "Python 3 (ipykernel)",
   "language": "python",
   "name": "python3"
  },
  "language_info": {
   "codemirror_mode": {
    "name": "ipython",
    "version": 3
   },
   "file_extension": ".py",
   "mimetype": "text/x-python",
   "name": "python",
   "nbconvert_exporter": "python",
   "pygments_lexer": "ipython3",
   "version": "3.13.5"
  }
 },
 "nbformat": 4,
 "nbformat_minor": 5
}
