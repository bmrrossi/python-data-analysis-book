{
 "cells": [
  {
   "cell_type": "markdown",
   "id": "38ede16f-b555-459b-9984-b005e0276d5e",
   "metadata": {},
   "source": [
    "## Diferença de tempo entre um array numpy e uma lista (ambos com 1 milhão de inteiros)"
   ]
  },
  {
   "cell_type": "code",
   "execution_count": 1,
   "id": "1048c7ea-8531-4e5b-8843-775325ae3f44",
   "metadata": {},
   "outputs": [],
   "source": [
    "import numpy as np"
   ]
  },
  {
   "cell_type": "code",
   "execution_count": 2,
   "id": "6d1f5037-bf76-432c-8b00-14ff73ea6498",
   "metadata": {},
   "outputs": [],
   "source": [
    "my_arr = np.arange(5_000_000)\n",
    "\n",
    "my_list = list(range(5_000_000))"
   ]
  },
  {
   "cell_type": "code",
   "execution_count": 3,
   "id": "2cf96f42-eed0-4fdc-ba71-91ba928c3164",
   "metadata": {},
   "outputs": [
    {
     "name": "stdout",
     "output_type": "stream",
     "text": [
      "9.42 ms ± 73.2 μs per loop (mean ± std. dev. of 7 runs, 100 loops each)\n"
     ]
    }
   ],
   "source": [
    "%timeit my_arr2 = my_arr * 2"
   ]
  },
  {
   "cell_type": "code",
   "execution_count": 4,
   "id": "a00727f8-713e-41d6-b999-4512ebea19b9",
   "metadata": {},
   "outputs": [
    {
     "name": "stdout",
     "output_type": "stream",
     "text": [
      "277 ms ± 23.7 ms per loop (mean ± std. dev. of 7 runs, 1 loop each)\n"
     ]
    }
   ],
   "source": [
    "%timeit my_list2 = [x * 2 for x in my_list]"
   ]
  },
  {
   "cell_type": "code",
   "execution_count": 5,
   "id": "9a8f13b5-0d42-45fe-a8ef-0c86ba34495d",
   "metadata": {},
   "outputs": [],
   "source": [
    "test_arr = np.arange(10)"
   ]
  },
  {
   "cell_type": "code",
   "execution_count": 6,
   "id": "4e31dad2-2c20-4785-9054-b084f9d467dc",
   "metadata": {},
   "outputs": [
    {
     "data": {
      "text/plain": [
       "array([0, 1, 2, 3, 4, 5, 6, 7, 8, 9])"
      ]
     },
     "execution_count": 6,
     "metadata": {},
     "output_type": "execute_result"
    }
   ],
   "source": [
    "test_arr"
   ]
  },
  {
   "cell_type": "code",
   "execution_count": 7,
   "id": "02b80968-79ba-4c8b-b648-ca75059f37bf",
   "metadata": {},
   "outputs": [
    {
     "data": {
      "text/plain": [
       "\u001b[31mDocstring:\u001b[39m\n",
       "arange([start,] stop[, step,], dtype=None, *, device=None, like=None)\n",
       "\n",
       "Return evenly spaced values within a given interval.\n",
       "\n",
       "``arange`` can be called with a varying number of positional arguments:\n",
       "\n",
       "* ``arange(stop)``: Values are generated within the half-open interval\n",
       "  ``[0, stop)`` (in other words, the interval including `start` but\n",
       "  excluding `stop`).\n",
       "* ``arange(start, stop)``: Values are generated within the half-open\n",
       "  interval ``[start, stop)``.\n",
       "* ``arange(start, stop, step)`` Values are generated within the half-open\n",
       "  interval ``[start, stop)``, with spacing between values given by\n",
       "  ``step``.\n",
       "\n",
       "For integer arguments the function is roughly equivalent to the Python\n",
       "built-in :py:class:`range`, but returns an ndarray rather than a ``range``\n",
       "instance.\n",
       "\n",
       "When using a non-integer step, such as 0.1, it is often better to use\n",
       "`numpy.linspace`.\n",
       "\n",
       "See the Warning sections below for more information.\n",
       "\n",
       "Parameters\n",
       "----------\n",
       "start : integer or real, optional\n",
       "    Start of interval.  The interval includes this value.  The default\n",
       "    start value is 0.\n",
       "stop : integer or real\n",
       "    End of interval.  The interval does not include this value, except\n",
       "    in some cases where `step` is not an integer and floating point\n",
       "    round-off affects the length of `out`.\n",
       "step : integer or real, optional\n",
       "    Spacing between values.  For any output `out`, this is the distance\n",
       "    between two adjacent values, ``out[i+1] - out[i]``.  The default\n",
       "    step size is 1.  If `step` is specified as a position argument,\n",
       "    `start` must also be given.\n",
       "dtype : dtype, optional\n",
       "    The type of the output array.  If `dtype` is not given, infer the data\n",
       "    type from the other input arguments.\n",
       "device : str, optional\n",
       "    The device on which to place the created array. Default: ``None``.\n",
       "    For Array-API interoperability only, so must be ``\"cpu\"`` if passed.\n",
       "\n",
       "    .. versionadded:: 2.0.0\n",
       "like : array_like, optional\n",
       "    Reference object to allow the creation of arrays which are not\n",
       "    NumPy arrays. If an array-like passed in as ``like`` supports\n",
       "    the ``__array_function__`` protocol, the result will be defined\n",
       "    by it. In this case, it ensures the creation of an array object\n",
       "    compatible with that passed in via this argument.\n",
       "\n",
       "    .. versionadded:: 1.20.0\n",
       "\n",
       "Returns\n",
       "-------\n",
       "arange : ndarray\n",
       "    Array of evenly spaced values.\n",
       "\n",
       "    For floating point arguments, the length of the result is\n",
       "    ``ceil((stop - start)/step)``.  Because of floating point overflow,\n",
       "    this rule may result in the last element of `out` being greater\n",
       "    than `stop`.\n",
       "\n",
       "Warnings\n",
       "--------\n",
       "The length of the output might not be numerically stable.\n",
       "\n",
       "Another stability issue is due to the internal implementation of\n",
       "`numpy.arange`.\n",
       "The actual step value used to populate the array is\n",
       "``dtype(start + step) - dtype(start)`` and not `step`. Precision loss\n",
       "can occur here, due to casting or due to using floating points when\n",
       "`start` is much larger than `step`. This can lead to unexpected\n",
       "behaviour. For example::\n",
       "\n",
       "  >>> np.arange(0, 5, 0.5, dtype=int)\n",
       "  array([0, 0, 0, 0, 0, 0, 0, 0, 0, 0])\n",
       "  >>> np.arange(-3, 3, 0.5, dtype=int)\n",
       "  array([-3, -2, -1,  0,  1,  2,  3,  4,  5,  6,  7,  8])\n",
       "\n",
       "In such cases, the use of `numpy.linspace` should be preferred.\n",
       "\n",
       "The built-in :py:class:`range` generates :std:doc:`Python built-in integers\n",
       "that have arbitrary size <python:c-api/long>`, while `numpy.arange`\n",
       "produces `numpy.int32` or `numpy.int64` numbers. This may result in\n",
       "incorrect results for large integer values::\n",
       "\n",
       "  >>> power = 40\n",
       "  >>> modulo = 10000\n",
       "  >>> x1 = [(n ** power) % modulo for n in range(8)]\n",
       "  >>> x2 = [(n ** power) % modulo for n in np.arange(8)]\n",
       "  >>> print(x1)\n",
       "  [0, 1, 7776, 8801, 6176, 625, 6576, 4001]  # correct\n",
       "  >>> print(x2)\n",
       "  [0, 1, 7776, 7185, 0, 5969, 4816, 3361]  # incorrect\n",
       "\n",
       "See Also\n",
       "--------\n",
       "numpy.linspace : Evenly spaced numbers with careful handling of endpoints.\n",
       "numpy.ogrid: Arrays of evenly spaced numbers in N-dimensions.\n",
       "numpy.mgrid: Grid-shaped arrays of evenly spaced numbers in N-dimensions.\n",
       ":ref:`how-to-partition`\n",
       "\n",
       "Examples\n",
       "--------\n",
       ">>> import numpy as np\n",
       ">>> np.arange(3)\n",
       "array([0, 1, 2])\n",
       ">>> np.arange(3.0)\n",
       "array([ 0.,  1.,  2.])\n",
       ">>> np.arange(3,7)\n",
       "array([3, 4, 5, 6])\n",
       ">>> np.arange(3,7,2)\n",
       "array([3, 5])\n",
       "\u001b[31mType:\u001b[39m      builtin_function_or_method"
      ]
     },
     "metadata": {},
     "output_type": "display_data"
    }
   ],
   "source": [
    "np.arange?"
   ]
  },
  {
   "cell_type": "markdown",
   "id": "f2bf9d7e-09a9-4352-be20-7ae9d71388dc",
   "metadata": {},
   "source": [
    "## Computação em lote com NumPy - Algumas operações padrões"
   ]
  },
  {
   "cell_type": "code",
   "execution_count": 8,
   "id": "af62f1e1-2f9d-4325-9472-ca72eb706222",
   "metadata": {},
   "outputs": [],
   "source": [
    "data = np.array([[1, 2, 3],[3.5, 7, 4]])"
   ]
  },
  {
   "cell_type": "code",
   "execution_count": 9,
   "id": "23bffbb1-b8c8-4e19-a691-20c6d010a879",
   "metadata": {},
   "outputs": [
    {
     "data": {
      "text/plain": [
       "array([[1. , 2. , 3. ],\n",
       "       [3.5, 7. , 4. ]])"
      ]
     },
     "execution_count": 9,
     "metadata": {},
     "output_type": "execute_result"
    }
   ],
   "source": [
    "data"
   ]
  },
  {
   "cell_type": "code",
   "execution_count": 10,
   "id": "74c9498e-26ce-44ff-88ab-64396adfe8ce",
   "metadata": {},
   "outputs": [
    {
     "data": {
      "text/plain": [
       "array([[10., 20., 30.],\n",
       "       [35., 70., 40.]])"
      ]
     },
     "execution_count": 10,
     "metadata": {},
     "output_type": "execute_result"
    }
   ],
   "source": [
    "data * 10"
   ]
  },
  {
   "cell_type": "code",
   "execution_count": 11,
   "id": "b9337e5b-197b-47c9-bd64-75342961c270",
   "metadata": {},
   "outputs": [
    {
     "data": {
      "text/plain": [
       "array([[ 2.,  4.,  6.],\n",
       "       [ 7., 14.,  8.]])"
      ]
     },
     "execution_count": 11,
     "metadata": {},
     "output_type": "execute_result"
    }
   ],
   "source": [
    "data + data"
   ]
  },
  {
   "cell_type": "code",
   "execution_count": 12,
   "id": "3ae107df-6c44-402a-8258-ede59315d3ce",
   "metadata": {},
   "outputs": [
    {
     "data": {
      "text/plain": [
       "(2, 3)"
      ]
     },
     "execution_count": 12,
     "metadata": {},
     "output_type": "execute_result"
    }
   ],
   "source": [
    "# Chegar dimensao do array\n",
    "data.shape"
   ]
  },
  {
   "cell_type": "code",
   "execution_count": 13,
   "id": "e7cb4ff7-850a-4c26-9950-1b92448f7513",
   "metadata": {},
   "outputs": [
    {
     "data": {
      "text/plain": [
       "dtype('float64')"
      ]
     },
     "execution_count": 13,
     "metadata": {},
     "output_type": "execute_result"
    }
   ],
   "source": [
    "# Chegar type do array\n",
    "data.dtype"
   ]
  },
  {
   "cell_type": "markdown",
   "id": "628d3a5a-8dfd-421d-9dba-04fe2f9130bc",
   "metadata": {},
   "source": [
    "## Convertendo uma lista para ndarray\n",
    "\n",
    "Um array é mais performático que uma lista comum do python (built-in list).\n",
    "Como os arrays do NumPy são implementados com libs de C isso aumenta o desempenho.\n",
    "Isso permite a estes arrays executar operações vetoriais por todos os elementos sem a necessidade de utilizar um loop (for)\n"
   ]
  },
  {
   "cell_type": "code",
   "execution_count": 15,
   "id": "8d1d2ef7-d89b-445a-a883-c217c9f42b7f",
   "metadata": {},
   "outputs": [],
   "source": [
    "lst = [1, 7, 4, 2.5, 3.7]\n",
    "arr = np.array(lst)"
   ]
  },
  {
   "cell_type": "code",
   "execution_count": 16,
   "id": "aebd951c-0215-47aa-b719-db7b5b8c3b67",
   "metadata": {},
   "outputs": [
    {
     "data": {
      "text/plain": [
       "array([1. , 7. , 4. , 2.5, 3.7])"
      ]
     },
     "execution_count": 16,
     "metadata": {},
     "output_type": "execute_result"
    }
   ],
   "source": [
    "arr"
   ]
  },
  {
   "cell_type": "code",
   "execution_count": 17,
   "id": "158126c6-c20b-459e-91ec-9fd866f56fa8",
   "metadata": {},
   "outputs": [
    {
     "data": {
      "text/plain": [
       "array([[3.4, 2.7, 3. ],\n",
       "       [2.1, 2. , 4. ]])"
      ]
     },
     "execution_count": 17,
     "metadata": {},
     "output_type": "execute_result"
    }
   ],
   "source": [
    "# Sequencias aninhadas (lista de lista) ira criar um array multidimensional\n",
    "lst2 = [[3.4, 2.7, 3],[2.1, 2, 4]]\n",
    "arr2 = np.array(lst2)\n",
    "arr2"
   ]
  },
  {
   "cell_type": "code",
   "execution_count": 18,
   "id": "4e41a4ca-a396-416f-89f2-92919d5be608",
   "metadata": {},
   "outputs": [
    {
     "data": {
      "text/plain": [
       "2"
      ]
     },
     "execution_count": 18,
     "metadata": {},
     "output_type": "execute_result"
    }
   ],
   "source": [
    "# Chegar numero de dimensoes do array\n",
    "arr2.ndim"
   ]
  },
  {
   "cell_type": "code",
   "execution_count": 19,
   "id": "ecb43d57-b13d-43c0-a41d-cb44d904c249",
   "metadata": {},
   "outputs": [
    {
     "data": {
      "text/plain": [
       "(2, 3)"
      ]
     },
     "execution_count": 19,
     "metadata": {},
     "output_type": "execute_result"
    }
   ],
   "source": [
    "arr2.shape"
   ]
  },
  {
   "cell_type": "markdown",
   "id": "ad48ab4c-1223-426f-b88f-0dd222125dc1",
   "metadata": {},
   "source": [
    "## Criando arrays pre-definidos com 0's 1's e sem tamanho"
   ]
  },
  {
   "cell_type": "code",
   "execution_count": 22,
   "id": "1c0e1434-bfd3-442b-b15e-0350aabade43",
   "metadata": {},
   "outputs": [
    {
     "data": {
      "text/plain": [
       "array([0., 0., 0., 0., 0., 0., 0., 0., 0., 0.])"
      ]
     },
     "execution_count": 22,
     "metadata": {},
     "output_type": "execute_result"
    }
   ],
   "source": [
    "# É possível criar um array de zeros com a funcao zeros(n)\n",
    "arr_z = np.zeros(10) # Neste caso sera criado um array unidimensional com 10 valores zerados\n",
    "arr_z"
   ]
  },
  {
   "cell_type": "code",
   "execution_count": 23,
   "id": "d9d33157-3ca6-414b-bc9b-cc9a8d550667",
   "metadata": {},
   "outputs": [
    {
     "data": {
      "text/plain": [
       "array([[0., 0., 0., 0.],\n",
       "       [0., 0., 0., 0.]])"
      ]
     },
     "execution_count": 23,
     "metadata": {},
     "output_type": "execute_result"
    }
   ],
   "source": [
    "# Porém é possível multidimensionar um array de zeros passando uma tupla com a dimensao desejada\n",
    "arr_z_multi = np.zeros((2, 4))\n",
    "arr_z_multi"
   ]
  },
  {
   "cell_type": "code",
   "execution_count": 25,
   "id": "b60bee08-82b1-4d0d-86e6-21094e3aa297",
   "metadata": {},
   "outputs": [
    {
     "data": {
      "text/plain": [
       "array([[[0., 0.],\n",
       "        [0., 0.],\n",
       "        [0., 0.]],\n",
       "\n",
       "       [[0., 0.],\n",
       "        [0., 0.],\n",
       "        [0., 0.]]])"
      ]
     },
     "execution_count": 25,
     "metadata": {},
     "output_type": "execute_result"
    }
   ],
   "source": [
    "# np.empty vai criar um array sem inicializa-lo especificamente\n",
    "np.empty((2, 3, 2)) # Não é seguro afirmar que será criado um array somente com zeros, np.empty pode pegar valores sujos da memória"
   ]
  },
  {
   "cell_type": "code",
   "execution_count": 26,
   "id": "04a4a8a2-97d9-4cf4-a48e-161a387a01c8",
   "metadata": {},
   "outputs": [
    {
     "data": {
      "text/plain": [
       "array([1., 1., 1., 1., 1.])"
      ]
     },
     "execution_count": 26,
     "metadata": {},
     "output_type": "execute_result"
    }
   ],
   "source": [
    "# Também existe a opcao de criar um array somente com 1's\n",
    "np.ones(5)"
   ]
  },
  {
   "cell_type": "code",
   "execution_count": 27,
   "id": "a9425233-3b2f-4706-9020-efc4d5df9d9c",
   "metadata": {},
   "outputs": [
    {
     "data": {
      "text/plain": [
       "array([[1., 1., 1., 1., 1.],\n",
       "       [1., 1., 1., 1., 1.],\n",
       "       [1., 1., 1., 1., 1.],\n",
       "       [1., 1., 1., 1., 1.]])"
      ]
     },
     "execution_count": 27,
     "metadata": {},
     "output_type": "execute_result"
    }
   ],
   "source": [
    "np.ones((4, 5))"
   ]
  },
  {
   "cell_type": "code",
   "execution_count": 28,
   "id": "6d0d8056-91c9-4918-8ad1-2cb14de74327",
   "metadata": {},
   "outputs": [
    {
     "data": {
      "text/plain": [
       "array([2, 2, 2])"
      ]
     },
     "execution_count": 28,
     "metadata": {},
     "output_type": "execute_result"
    }
   ],
   "source": [
    "# O np.full criara um array com o shape e o valor padrao passados\n",
    "np.full(3, 2)"
   ]
  },
  {
   "cell_type": "code",
   "execution_count": 32,
   "id": "6000fae3-5c15-4537-99c0-4992a88ae51d",
   "metadata": {},
   "outputs": [
    {
     "data": {
      "text/plain": [
       "array([['bb', 'bb', 'bb', 'bb', 'bb'],\n",
       "       ['bb', 'bb', 'bb', 'bb', 'bb'],\n",
       "       ['bb', 'bb', 'bb', 'bb', 'bb'],\n",
       "       ['bb', 'bb', 'bb', 'bb', 'bb']], dtype='<U2')"
      ]
     },
     "execution_count": 32,
     "metadata": {},
     "output_type": "execute_result"
    }
   ],
   "source": [
    "np.full((4,5), 'bb') # Cria um array multidimensional 4 por 5 com valores definidos como 'bb'"
   ]
  },
  {
   "cell_type": "code",
   "execution_count": 40,
   "id": "e241f2ca-149b-4caf-a38b-82978da2fdf6",
   "metadata": {},
   "outputs": [
    {
     "data": {
      "text/plain": [
       "array([[1., 0., 0., 0.],\n",
       "       [0., 1., 0., 0.],\n",
       "       [0., 0., 1., 0.],\n",
       "       [0., 0., 0., 1.]])"
      ]
     },
     "execution_count": 40,
     "metadata": {},
     "output_type": "execute_result"
    }
   ],
   "source": [
    "# Cria uma matriz identidiade quadrada N x N\n",
    "np.eye(10)\n",
    "np.identity(4)"
   ]
  },
  {
   "cell_type": "markdown",
   "id": "c958307c-b576-483b-9ac6-40645bde86ac",
   "metadata": {},
   "source": [
    "## Aritmética com arrays NumPy\n",
    "\n",
    "Os arrays são importantes porque permitem expressar operações em lote com dados sem ser preciso escrever nenhum loop for. Os usuários do NumPy chamam isso de vetorização"
   ]
  },
  {
   "cell_type": "code",
   "execution_count": 2,
   "id": "03c46fb9-3633-4246-a961-469715974c08",
   "metadata": {},
   "outputs": [],
   "source": [
    "import numpy as np\n",
    "arr = np.array([[1, 2, 3],[4, 5, 6]])"
   ]
  },
  {
   "cell_type": "code",
   "execution_count": 12,
   "id": "566494b4-71e4-4abb-8aa2-09fa393c7731",
   "metadata": {},
   "outputs": [
    {
     "data": {
      "text/plain": [
       "array([[ 3,  7, 12],\n",
       "       [ 2,  3,  9]])"
      ]
     },
     "execution_count": 12,
     "metadata": {},
     "output_type": "execute_result"
    }
   ],
   "source": [
    "arr"
   ]
  },
  {
   "cell_type": "code",
   "execution_count": 4,
   "id": "a90b7341-1275-4fdb-9e4d-e6d46c02dc3c",
   "metadata": {},
   "outputs": [
    {
     "data": {
      "text/plain": [
       "array([[ 1,  4,  9],\n",
       "       [16, 25, 36]])"
      ]
     },
     "execution_count": 4,
     "metadata": {},
     "output_type": "execute_result"
    }
   ],
   "source": [
    "arr * arr"
   ]
  },
  {
   "cell_type": "code",
   "execution_count": 5,
   "id": "e76e4000-2a0d-4d55-b276-7ceddbb0d287",
   "metadata": {},
   "outputs": [
    {
     "data": {
      "text/plain": [
       "array([[0, 0, 0],\n",
       "       [0, 0, 0]])"
      ]
     },
     "execution_count": 5,
     "metadata": {},
     "output_type": "execute_result"
    }
   ],
   "source": [
    "arr - arr"
   ]
  },
  {
   "cell_type": "code",
   "execution_count": 7,
   "id": "86ec22e4-b5f4-41ba-a698-b300d7fe44ad",
   "metadata": {},
   "outputs": [
    {
     "data": {
      "text/plain": [
       "array([[1.        , 0.5       , 0.33333333],\n",
       "       [0.25      , 0.2       , 0.16666667]])"
      ]
     },
     "execution_count": 7,
     "metadata": {},
     "output_type": "execute_result"
    }
   ],
   "source": [
    "# As operações aritméticas escalares propagam o argumento escalar para cada elemento do array, como na divisão abaixo\n",
    "1 / arr"
   ]
  },
  {
   "cell_type": "code",
   "execution_count": 8,
   "id": "aef904f7-69b1-4e78-bc21-8174129d643c",
   "metadata": {},
   "outputs": [
    {
     "data": {
      "text/plain": [
       "array([[ 1,  4,  9],\n",
       "       [16, 25, 36]])"
      ]
     },
     "execution_count": 8,
     "metadata": {},
     "output_type": "execute_result"
    }
   ],
   "source": [
    "arr ** 2"
   ]
  },
  {
   "cell_type": "code",
   "execution_count": 17,
   "id": "ad2d1227-5ec6-48d4-b66c-cfa04384195d",
   "metadata": {},
   "outputs": [
    {
     "data": {
      "text/plain": [
       "array([[False, False, False],\n",
       "       [False,  True, False]])"
      ]
     },
     "execution_count": 17,
     "metadata": {},
     "output_type": "execute_result"
    }
   ],
   "source": [
    "# As comparações entre arrays do mesmo tamanho gera arrays booleanos\n",
    "arr = np.array([[1, 2, 3],[4, 5, 6]])\n",
    "arr2 = np.array([[3, 7, 12],[2, 5, 9]])\n",
    "\n",
    "arr == arr2"
   ]
  },
  {
   "cell_type": "code",
   "execution_count": 18,
   "id": "3ea828ca-3e5a-4448-8d32-abb715267533",
   "metadata": {},
   "outputs": [
    {
     "data": {
      "text/plain": [
       "array([[ True,  True,  True],\n",
       "       [ True, False,  True]])"
      ]
     },
     "execution_count": 18,
     "metadata": {},
     "output_type": "execute_result"
    }
   ],
   "source": [
    "arr != arr2"
   ]
  },
  {
   "cell_type": "code",
   "execution_count": 19,
   "id": "34b491ee-ed2d-4904-b824-feeb754b6dca",
   "metadata": {},
   "outputs": [
    {
     "data": {
      "text/plain": [
       "array([[False, False, False],\n",
       "       [ True, False, False]])"
      ]
     },
     "execution_count": 19,
     "metadata": {},
     "output_type": "execute_result"
    }
   ],
   "source": [
    "arr > arr2"
   ]
  },
  {
   "cell_type": "code",
   "execution_count": 20,
   "id": "f2b7e5bc-7d8a-40ee-b14e-89371fc7a886",
   "metadata": {},
   "outputs": [
    {
     "data": {
      "text/plain": [
       "array([[False, False, False],\n",
       "       [ True,  True, False]])"
      ]
     },
     "execution_count": 20,
     "metadata": {},
     "output_type": "execute_result"
    }
   ],
   "source": [
    "arr >= arr2"
   ]
  },
  {
   "cell_type": "code",
   "execution_count": 22,
   "id": "9c3da436-d6d9-4f59-b809-a94cbbc761ae",
   "metadata": {},
   "outputs": [
    {
     "data": {
      "text/plain": [
       "array([0, 1, 2, 3, 4, 5, 6, 7, 8, 9])"
      ]
     },
     "execution_count": 22,
     "metadata": {},
     "output_type": "execute_result"
    }
   ],
   "source": [
    "# Fatiamento e acesso a indice de arrays unidimensionais é muito similar com os tipos built-in do python\n",
    "arr = np.arange(10)\n",
    "arr"
   ]
  },
  {
   "cell_type": "code",
   "execution_count": 25,
   "id": "82f8ecef-48db-443c-a98b-6ace405ee919",
   "metadata": {},
   "outputs": [
    {
     "data": {
      "text/plain": [
       "np.int64(8)"
      ]
     },
     "execution_count": 25,
     "metadata": {},
     "output_type": "execute_result"
    }
   ],
   "source": [
    "arr[8]"
   ]
  },
  {
   "cell_type": "code",
   "execution_count": 24,
   "id": "69963e51-f465-4ba9-8b25-5bf073e25bad",
   "metadata": {},
   "outputs": [
    {
     "data": {
      "text/plain": [
       "array([2, 3, 4, 5])"
      ]
     },
     "execution_count": 24,
     "metadata": {},
     "output_type": "execute_result"
    }
   ],
   "source": [
    "arr[2:6]"
   ]
  },
  {
   "cell_type": "code",
   "execution_count": 26,
   "id": "82bcdd6e-e4ab-4d88-8af8-fd4476196e94",
   "metadata": {},
   "outputs": [
    {
     "data": {
      "text/plain": [
       "array([2, 3, 4, 5, 6])"
      ]
     },
     "execution_count": 26,
     "metadata": {},
     "output_type": "execute_result"
    }
   ],
   "source": [
    "arr[2:-3]"
   ]
  },
  {
   "cell_type": "code",
   "execution_count": 29,
   "id": "21a54a64-0663-4ffb-8bde-e0db0dfb9156",
   "metadata": {},
   "outputs": [],
   "source": [
    "# Valor 12 foi propagado (feito um broadcast) para as chaves abaixo\n",
    "arr[5:8] = 12"
   ]
  },
  {
   "cell_type": "code",
   "execution_count": 28,
   "id": "c5e2ad92-1945-498b-beec-f5bfa36bd699",
   "metadata": {},
   "outputs": [
    {
     "data": {
      "text/plain": [
       "array([ 0,  1,  2,  3,  4, 12, 12, 12,  8,  9])"
      ]
     },
     "execution_count": 28,
     "metadata": {},
     "output_type": "execute_result"
    }
   ],
   "source": [
    "arr"
   ]
  },
  {
   "cell_type": "markdown",
   "id": "7df3bc24-83dd-4852-89e2-8efbeb24cb0c",
   "metadata": {},
   "source": [
    "### Uma diferança inicial importante em relação às listas internas do Python é que as fatias dos arrays são visualizações do array original. Isso significa que os dados não são copiados e qualqeur modificação feita na visualização será refletida no array de origem.\n",
    "\n",
    "### No exemplo abaixo, copiamos uma fatia do array original para *arr_slice*. Quando modificarmos arr_slice essas modificações serão refletidas em *arr*"
   ]
  },
  {
   "cell_type": "code",
   "execution_count": 31,
   "id": "3eb6bdc3-4952-423e-8d4b-1d0e40d60054",
   "metadata": {},
   "outputs": [
    {
     "data": {
      "text/plain": [
       "array([2, 3])"
      ]
     },
     "execution_count": 31,
     "metadata": {},
     "output_type": "execute_result"
    }
   ],
   "source": [
    "arr_slice = arr[2:4]\n",
    "arr_slice"
   ]
  },
  {
   "cell_type": "code",
   "execution_count": 32,
   "id": "9c027635-3901-4b6d-bddd-405555fe322e",
   "metadata": {},
   "outputs": [
    {
     "data": {
      "text/plain": [
       "array([  2, 400])"
      ]
     },
     "execution_count": 32,
     "metadata": {},
     "output_type": "execute_result"
    }
   ],
   "source": [
    "arr_slice[1] = 400\n",
    "arr_slice"
   ]
  },
  {
   "cell_type": "code",
   "execution_count": 33,
   "id": "1de131e6-e314-4398-bd40-103b863eacf6",
   "metadata": {},
   "outputs": [
    {
     "data": {
      "text/plain": [
       "array([  0,   1,   2, 400,   4,  12,  12,  12,   8,   9])"
      ]
     },
     "execution_count": 33,
     "metadata": {},
     "output_type": "execute_result"
    }
   ],
   "source": [
    "arr"
   ]
  },
  {
   "cell_type": "markdown",
   "id": "a02e6ffb-b29a-4b19-b349-d18ab722ea29",
   "metadata": {},
   "source": [
    "### A fatia vazia [:] faz atribuição a todos os elementos de um array"
   ]
  },
  {
   "cell_type": "code",
   "execution_count": 34,
   "id": "22602e92-dd46-4330-9690-2d8a17ba754b",
   "metadata": {},
   "outputs": [],
   "source": [
    "arr_slice[:] = 24"
   ]
  },
  {
   "cell_type": "code",
   "execution_count": 35,
   "id": "fda8f23d-2e84-4219-9df5-3d4c9d0c7a9a",
   "metadata": {},
   "outputs": [
    {
     "data": {
      "text/plain": [
       "array([24, 24])"
      ]
     },
     "execution_count": 35,
     "metadata": {},
     "output_type": "execute_result"
    }
   ],
   "source": [
    "arr_slice"
   ]
  },
  {
   "cell_type": "code",
   "execution_count": 36,
   "id": "a912f415-1d2e-4c02-a31a-7b960b9fb9b5",
   "metadata": {},
   "outputs": [
    {
     "data": {
      "text/plain": [
       "array([ 0,  1, 24, 24,  4, 12, 12, 12,  8,  9])"
      ]
     },
     "execution_count": 36,
     "metadata": {},
     "output_type": "execute_result"
    }
   ],
   "source": [
    "arr"
   ]
  },
  {
   "cell_type": "code",
   "execution_count": 38,
   "id": "3ea338e2-c4a8-45aa-9cdd-38311e6c109e",
   "metadata": {},
   "outputs": [
    {
     "data": {
      "text/plain": [
       "np.str_('c')"
      ]
     },
     "execution_count": 38,
     "metadata": {},
     "output_type": "execute_result"
    }
   ],
   "source": [
    "# Formas diferentes de acessar indices de arrays\n",
    "arr = np.array([['a', 'b', 'c'], ['d', 'e', 'f']])\n",
    "arr[0][2]"
   ]
  },
  {
   "cell_type": "code",
   "execution_count": 39,
   "id": "04529e71-3906-460f-bff2-2318cbf338a6",
   "metadata": {},
   "outputs": [
    {
     "data": {
      "text/plain": [
       "np.str_('c')"
      ]
     },
     "execution_count": 39,
     "metadata": {},
     "output_type": "execute_result"
    }
   ],
   "source": [
    "arr[0, 2]"
   ]
  },
  {
   "cell_type": "markdown",
   "id": "2fdcbce5-4b90-4272-acbe-e1ab341c2849",
   "metadata": {},
   "source": [
    "### É importante ressaltas que o fatiamento em arrays multidimensionais o comportamento é diferente de como fatiar uma lista por exemplo"
   ]
  },
  {
   "cell_type": "code",
   "execution_count": 43,
   "id": "41710165-6fa3-4927-ab0f-fccd50440119",
   "metadata": {},
   "outputs": [],
   "source": [
    "arr_multi = np.array([[[2, 3, 7],[9, 4, 22], [1, 3, 15]],[[6, 2, 1], [5, 15, 3], [0, 3, 6]]])"
   ]
  },
  {
   "cell_type": "code",
   "execution_count": 45,
   "id": "8d0008f7-7c47-4f6c-8b8d-860c4f926769",
   "metadata": {},
   "outputs": [
    {
     "data": {
      "text/plain": [
       "(2, 3, 3)"
      ]
     },
     "execution_count": 45,
     "metadata": {},
     "output_type": "execute_result"
    }
   ],
   "source": [
    "arr_multi.shape"
   ]
  },
  {
   "cell_type": "code",
   "execution_count": 52,
   "id": "f85963b2-fbea-4cfe-a9bb-32203961ddbe",
   "metadata": {},
   "outputs": [
    {
     "data": {
      "text/plain": [
       "array([[ 9,  4, 22],\n",
       "       [ 5, 15,  3]])"
      ]
     },
     "execution_count": 52,
     "metadata": {},
     "output_type": "execute_result"
    }
   ],
   "source": [
    "# Pega as duas dimensões e somente a segunda linha de cada\n",
    "arr_multi[:2, 1]"
   ]
  },
  {
   "cell_type": "code",
   "execution_count": 54,
   "id": "e13ef88f-1920-45db-a84f-ced64a9956d1",
   "metadata": {},
   "outputs": [
    {
     "data": {
      "text/plain": [
       "array([[ 1,  3, 15],\n",
       "       [ 0,  3,  6]])"
      ]
     },
     "execution_count": 54,
     "metadata": {},
     "output_type": "execute_result"
    }
   ],
   "source": [
    "# Pega as duas dimensões e somente a última linha\n",
    "arr_multi[:2, 2]"
   ]
  },
  {
   "cell_type": "code",
   "execution_count": 56,
   "id": "bac61302-bec1-4241-b880-ac7a694d4092",
   "metadata": {},
   "outputs": [
    {
     "data": {
      "text/plain": [
       "array([[[ 9,  4, 22],\n",
       "        [ 1,  3, 15]],\n",
       "\n",
       "       [[ 5, 15,  3],\n",
       "        [ 0,  3,  6]]])"
      ]
     },
     "execution_count": 56,
     "metadata": {},
     "output_type": "execute_result"
    }
   ],
   "source": [
    "arr_multi[:2, 1:]"
   ]
  },
  {
   "cell_type": "code",
   "execution_count": 60,
   "id": "36656013-6ae5-40be-8f23-792f48750cf9",
   "metadata": {},
   "outputs": [],
   "source": [
    "import numpy as nd\n",
    "arr2d = nd.array([[1,2,3],[4,5,6],[7,8,9]])"
   ]
  },
  {
   "cell_type": "code",
   "execution_count": 61,
   "id": "750b96d3-18f8-411f-b0ba-c074402127c5",
   "metadata": {},
   "outputs": [
    {
     "data": {
      "text/plain": [
       "array([[1, 2, 3],\n",
       "       [4, 5, 6],\n",
       "       [7, 8, 9]])"
      ]
     },
     "execution_count": 61,
     "metadata": {},
     "output_type": "execute_result"
    }
   ],
   "source": [
    "arr2d"
   ]
  },
  {
   "cell_type": "code",
   "execution_count": 62,
   "id": "d793196b-b7b6-438e-a296-c755fde2eb63",
   "metadata": {},
   "outputs": [
    {
     "data": {
      "text/plain": [
       "array([[1, 2, 3],\n",
       "       [4, 5, 6]])"
      ]
     },
     "execution_count": 62,
     "metadata": {},
     "output_type": "execute_result"
    }
   ],
   "source": [
    "# Pega as duas primeiras linhas\n",
    "arr2d[:2]"
   ]
  },
  {
   "cell_type": "code",
   "execution_count": 63,
   "id": "08a9fb4e-909a-40a6-af94-310d11492709",
   "metadata": {},
   "outputs": [
    {
     "data": {
      "text/plain": [
       "array([[2, 3],\n",
       "       [5, 6]])"
      ]
     },
     "execution_count": 63,
     "metadata": {},
     "output_type": "execute_result"
    }
   ],
   "source": [
    "# pega as duas primeiras linhas a partir do indice 1, excluindo (1, 4)\n",
    "arr2d[:2, 1:]"
   ]
  },
  {
   "cell_type": "code",
   "execution_count": 65,
   "id": "b3992151-169d-4eff-ab9b-c86fc5501b73",
   "metadata": {},
   "outputs": [
    {
     "data": {
      "text/plain": [
       "array([[7, 8, 9]])"
      ]
     },
     "execution_count": 65,
     "metadata": {},
     "output_type": "execute_result"
    }
   ],
   "source": [
    "# Pega apenas os elementos da terceira linha\n",
    "arr2d[2:, :]"
   ]
  },
  {
   "cell_type": "code",
   "execution_count": 68,
   "id": "fffca24c-2be3-4d2d-ad4e-6f11c5c47157",
   "metadata": {},
   "outputs": [
    {
     "data": {
      "text/plain": [
       "array([[4, 5]])"
      ]
     },
     "execution_count": 68,
     "metadata": {},
     "output_type": "execute_result"
    }
   ],
   "source": [
    "# Pega apenas o primeiro e segundo elemento da segunda linha\n",
    "arr2d[1:2, :2]"
   ]
  },
  {
   "cell_type": "code",
   "execution_count": null,
   "id": "0be98160-2b4c-4fcf-9b83-a0015570a7ee",
   "metadata": {},
   "outputs": [],
   "source": []
  }
 ],
 "metadata": {
  "kernelspec": {
   "display_name": "Python 3 (ipykernel)",
   "language": "python",
   "name": "python3"
  },
  "language_info": {
   "codemirror_mode": {
    "name": "ipython",
    "version": 3
   },
   "file_extension": ".py",
   "mimetype": "text/x-python",
   "name": "python",
   "nbconvert_exporter": "python",
   "pygments_lexer": "ipython3",
   "version": "3.13.5"
  }
 },
 "nbformat": 4,
 "nbformat_minor": 5
}
