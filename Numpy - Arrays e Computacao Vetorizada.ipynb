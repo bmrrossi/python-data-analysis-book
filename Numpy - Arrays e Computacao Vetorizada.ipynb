{
 "cells": [
  {
   "cell_type": "markdown",
   "id": "38ede16f-b555-459b-9984-b005e0276d5e",
   "metadata": {},
   "source": [
    "## Diferença de tempo entre um array numpy e uma lista (ambos com 1 milhão de inteiros)"
   ]
  },
  {
   "cell_type": "code",
   "execution_count": 1,
   "id": "1048c7ea-8531-4e5b-8843-775325ae3f44",
   "metadata": {},
   "outputs": [],
   "source": [
    "import numpy as np"
   ]
  },
  {
   "cell_type": "code",
   "execution_count": null,
   "id": "6d1f5037-bf76-432c-8b00-14ff73ea6498",
   "metadata": {},
   "outputs": [],
   "source": [
    "my_arr = np.arange(5_000_000)\n",
    "\n",
    "my_list = list(range(5_000_000))"
   ]
  },
  {
   "cell_type": "code",
   "execution_count": null,
   "id": "2cf96f42-eed0-4fdc-ba71-91ba928c3164",
   "metadata": {},
   "outputs": [],
   "source": [
    "%timeit my_arr2 = my_arr * 2"
   ]
  },
  {
   "cell_type": "code",
   "execution_count": null,
   "id": "a00727f8-713e-41d6-b999-4512ebea19b9",
   "metadata": {},
   "outputs": [],
   "source": [
    "%timeit my_list2 = [x * 2 for x in my_list]"
   ]
  },
  {
   "cell_type": "code",
   "execution_count": null,
   "id": "9a8f13b5-0d42-45fe-a8ef-0c86ba34495d",
   "metadata": {},
   "outputs": [],
   "source": []
  }
 ],
 "metadata": {
  "kernelspec": {
   "display_name": "Python 3 (ipykernel)",
   "language": "python",
   "name": "python3"
  },
  "language_info": {
   "codemirror_mode": {
    "name": "ipython",
    "version": 3
   },
   "file_extension": ".py",
   "mimetype": "text/x-python",
   "name": "python",
   "nbconvert_exporter": "python",
   "pygments_lexer": "ipython3",
   "version": "3.13.5"
  }
 },
 "nbformat": 4,
 "nbformat_minor": 5
}
