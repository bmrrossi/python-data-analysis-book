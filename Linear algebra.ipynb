{
 "cells": [
  {
   "cell_type": "code",
   "execution_count": 1,
   "id": "abe81489-55f2-45b8-980c-cd457a31f94d",
   "metadata": {},
   "outputs": [
    {
     "data": {
      "text/plain": [
       "array([[1, 2, 3],\n",
       "       [4, 5, 6]])"
      ]
     },
     "execution_count": 1,
     "metadata": {},
     "output_type": "execute_result"
    }
   ],
   "source": [
    "import numpy as np\n",
    "x = np.array([[1, 2, 3], [4, 5, 6]])\n",
    "y = np.array([[6, 23], [-1, 7], [8, 9]])\n",
    "\n",
    "x"
   ]
  },
  {
   "cell_type": "code",
   "execution_count": 2,
   "id": "d311667b-aa55-4feb-81f6-61583956af15",
   "metadata": {},
   "outputs": [
    {
     "data": {
      "text/plain": [
       "array([[ 6, 23],\n",
       "       [-1,  7],\n",
       "       [ 8,  9]])"
      ]
     },
     "execution_count": 2,
     "metadata": {},
     "output_type": "execute_result"
    }
   ],
   "source": [
    "y"
   ]
  },
  {
   "cell_type": "code",
   "execution_count": 3,
   "id": "76c935fe-d297-4d35-927e-a5e429647ab4",
   "metadata": {},
   "outputs": [
    {
     "data": {
      "text/plain": [
       "array([[ 28,  64],\n",
       "       [ 67, 181]])"
      ]
     },
     "execution_count": 3,
     "metadata": {},
     "output_type": "execute_result"
    }
   ],
   "source": [
    "# x.dot(y) é equivalente a np.dot(x, y)\n",
    "x.dot(y) # multiplicação de matrizes (linha x coluna)"
   ]
  },
  {
   "cell_type": "code",
   "execution_count": 4,
   "id": "994d33d7-3474-410d-8cc3-026dc9cbf97c",
   "metadata": {},
   "outputs": [
    {
     "data": {
      "text/plain": [
       "array([ 6., 15.])"
      ]
     },
     "execution_count": 4,
     "metadata": {},
     "output_type": "execute_result"
    }
   ],
   "source": [
    "# Um produto de matrizes entre um array bidimensional e um array unidimensional resulta em um array unidimensional\n",
    "x @ np.ones(3) # Lembrando que o @ significa multiplicacao"
   ]
  },
  {
   "cell_type": "code",
   "execution_count": 5,
   "id": "972da19b-89b7-4bca-aaca-bc86d84c875d",
   "metadata": {},
   "outputs": [
    {
     "data": {
      "text/plain": [
       "array([1., 1., 1.])"
      ]
     },
     "execution_count": 5,
     "metadata": {},
     "output_type": "execute_result"
    }
   ],
   "source": [
    "np.ones(3)"
   ]
  },
  {
   "cell_type": "code",
   "execution_count": 6,
   "id": "4835a7ff-2370-4484-a958-4711b8364111",
   "metadata": {},
   "outputs": [],
   "source": [
    "# numpy.linalg tem um conjunto padráo de decomposicao de matrizes e operacoes como inverso e determinante\n",
    "from numpy.linalg import inv, qr\n",
    "rng = np.random.default_rng()\n",
    "\n",
    "X = rng.standard_normal((5, 5))"
   ]
  },
  {
   "cell_type": "code",
   "execution_count": 7,
   "id": "90495a26-7041-40ee-a1c9-78811f270f5d",
   "metadata": {},
   "outputs": [
    {
     "data": {
      "text/plain": [
       "array([[ 0.27633188,  0.86652365,  1.29131748, -0.52916508,  0.43447336],\n",
       "       [ 1.49779654,  1.05412218,  0.58100615,  0.97826562,  1.0788634 ],\n",
       "       [ 1.18631555,  0.45687803, -0.69463794, -1.06540984,  2.74484396],\n",
       "       [ 0.67849071, -2.30787031, -0.19915772, -0.34846004,  0.01391842],\n",
       "       [-0.38924669, -0.13019172,  0.74479563, -0.51251852, -1.77453244]])"
      ]
     },
     "execution_count": 7,
     "metadata": {},
     "output_type": "execute_result"
    }
   ],
   "source": [
    "X"
   ]
  },
  {
   "cell_type": "code",
   "execution_count": 8,
   "id": "89a6837a-7b9d-4ba1-bfa8-8c1f7f037c56",
   "metadata": {},
   "outputs": [],
   "source": [
    "mat = X.T @ X"
   ]
  },
  {
   "cell_type": "code",
   "execution_count": 9,
   "id": "586697f0-10ee-47f4-b85a-815c8d322054",
   "metadata": {},
   "outputs": [
    {
     "data": {
      "text/plain": [
       "array([[ 1.61398868,  0.59903737, -1.03261053, -0.59778606, -1.14559367],\n",
       "       [ 0.59903737,  0.45646801, -0.57431104, -0.32495879, -0.52556334],\n",
       "       [-1.03261053, -0.57431104,  1.18278356,  0.45129408,  0.87549639],\n",
       "       [-0.59778606, -0.32495879,  0.45129408,  0.64654947,  0.50358217],\n",
       "       [-1.14559367, -0.52556334,  0.87549639,  0.50358217,  0.95302264]])"
      ]
     },
     "execution_count": 9,
     "metadata": {},
     "output_type": "execute_result"
    }
   ],
   "source": [
    "inv(mat) # inverse of a matrix"
   ]
  },
  {
   "cell_type": "code",
   "execution_count": 10,
   "id": "d033937d-0b77-46d0-86a2-5db1112685e2",
   "metadata": {},
   "outputs": [
    {
     "data": {
      "text/plain": [
       "array([[ 4.33896101,  0.84511829, -0.02203449,  0.01817465,  5.69240218],\n",
       "       [ 0.84511829,  7.4139896 ,  1.77670775,  0.95684134,  2.96670168],\n",
       "       [-0.02203449,  1.77670775,  3.08197517,  0.31280927, -2.0432394 ],\n",
       "       [ 0.01817465,  0.95684134,  0.31280927,  2.75621708, -1.1942462 ],\n",
       "       [ 5.69240218,  2.96670168, -2.0432394 , -1.1942462 , 12.03604079]])"
      ]
     },
     "execution_count": 10,
     "metadata": {},
     "output_type": "execute_result"
    }
   ],
   "source": [
    "mat"
   ]
  },
  {
   "cell_type": "code",
   "execution_count": 11,
   "id": "ec20b77b-510a-4f86-9b7f-a45c891ac931",
   "metadata": {},
   "outputs": [
    {
     "data": {
      "text/plain": [
       "array([[ 1.00000000e+00,  9.49856288e-16,  3.27358219e-16,\n",
       "        -4.82487002e-16,  6.09080322e-16],\n",
       "       [-1.83552520e-17,  1.00000000e+00, -1.08498564e-15,\n",
       "        -5.09218439e-17, -3.79939478e-16],\n",
       "       [ 2.87104533e-16, -1.46606393e-16,  1.00000000e+00,\n",
       "        -4.83633002e-17, -4.26807629e-16],\n",
       "       [-2.41061444e-16,  1.29538759e-16, -8.50146169e-17,\n",
       "         1.00000000e+00,  1.14690255e-16],\n",
       "       [ 1.89963960e-16,  4.04530620e-16, -1.59100668e-15,\n",
       "         2.16369710e-16,  1.00000000e+00]])"
      ]
     },
     "execution_count": 11,
     "metadata": {},
     "output_type": "execute_result"
    }
   ],
   "source": [
    "mat @ inv(mat)"
   ]
  },
  {
   "cell_type": "code",
   "execution_count": 12,
   "id": "c1c71033-d6f1-4744-8b73-5e66dfc0db3c",
   "metadata": {},
   "outputs": [
    {
     "data": {
      "text/plain": [
       "array([[ 1.,  0.,  0., -0.,  0.],\n",
       "       [-0.,  1., -0., -0., -0.],\n",
       "       [ 0., -0.,  1., -0., -0.],\n",
       "       [-0.,  0., -0.,  1.,  0.],\n",
       "       [ 0.,  0., -0.,  0.,  1.]])"
      ]
     },
     "execution_count": 12,
     "metadata": {},
     "output_type": "execute_result"
    }
   ],
   "source": [
    "np.round(mat @ inv(mat))"
   ]
  },
  {
   "cell_type": "code",
   "execution_count": 20,
   "id": "9d8d9f55-4ab1-43c9-9820-a13566093fda",
   "metadata": {},
   "outputs": [
    {
     "data": {
      "text/plain": [
       "np.int64(22)"
      ]
     },
     "execution_count": 20,
     "metadata": {},
     "output_type": "execute_result"
    }
   ],
   "source": [
    "np.array([2, 4]) @ np.array([3, 4]) # (2 x 3) + (4 x 4)"
   ]
  },
  {
   "cell_type": "code",
   "execution_count": null,
   "id": "b00ff100-6e88-4712-92de-69dc6b1d62c0",
   "metadata": {},
   "outputs": [],
   "source": []
  }
 ],
 "metadata": {
  "kernelspec": {
   "display_name": "Python 3 (ipykernel)",
   "language": "python",
   "name": "python3"
  },
  "language_info": {
   "codemirror_mode": {
    "name": "ipython",
    "version": 3
   },
   "file_extension": ".py",
   "mimetype": "text/x-python",
   "name": "python",
   "nbconvert_exporter": "python",
   "pygments_lexer": "ipython3",
   "version": "3.13.5"
  }
 },
 "nbformat": 4,
 "nbformat_minor": 5
}
