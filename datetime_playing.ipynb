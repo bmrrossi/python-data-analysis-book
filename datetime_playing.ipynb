{
 "cells": [
  {
   "cell_type": "code",
   "execution_count": 1,
   "id": "4928c631-61b3-4532-bf5c-8541eda9534e",
   "metadata": {},
   "outputs": [
    {
     "data": {
      "text/plain": [
       "datetime.datetime(2025, 7, 19, 15, 45, 30, 93615)"
      ]
     },
     "execution_count": 1,
     "metadata": {},
     "output_type": "execute_result"
    }
   ],
   "source": [
    "from datetime import datetime, date, time\n",
    "\n",
    "now = datetime.now()\n",
    "now"
   ]
  },
  {
   "cell_type": "code",
   "execution_count": 2,
   "id": "9eed4a3f-3256-4965-89de-5b3641d2205c",
   "metadata": {},
   "outputs": [
    {
     "data": {
      "text/plain": [
       "19"
      ]
     },
     "execution_count": 2,
     "metadata": {},
     "output_type": "execute_result"
    }
   ],
   "source": [
    "now.day"
   ]
  },
  {
   "cell_type": "code",
   "execution_count": 3,
   "id": "dc8e244b-492c-468a-ac15-7c753470bedf",
   "metadata": {},
   "outputs": [
    {
     "data": {
      "text/plain": [
       "30"
      ]
     },
     "execution_count": 3,
     "metadata": {},
     "output_type": "execute_result"
    }
   ],
   "source": [
    "now.second"
   ]
  },
  {
   "cell_type": "markdown",
   "id": "d08ec822-879a-42dc-9197-8319f6859c3f",
   "metadata": {},
   "source": [
    "### A datetime could be formated using strftime\n",
    "\n",
    "now.strftime('%m*%d-%Y')"
   ]
  },
  {
   "cell_type": "markdown",
   "id": "0b2fc913-b6c0-42b9-a630-b622c90c092b",
   "metadata": {},
   "source": [
    "### Strings can be converted to date using strptime()\n",
    "\n",
    "datetime.strptime(\"19931101\", \"%Y%m%d\")"
   ]
  },
  {
   "cell_type": "code",
   "execution_count": 20,
   "id": "23909668-b174-4932-a9ab-ae665a49acb5",
   "metadata": {},
   "outputs": [
    {
     "data": {
      "text/plain": [
       "1993"
      ]
     },
     "execution_count": 20,
     "metadata": {},
     "output_type": "execute_result"
    }
   ],
   "source": [
    "birthday = datetime.strptime(\"19931101 100500\", \"%Y%m%d %H%M%S\")\n",
    "\n",
    "birthday.year"
   ]
  },
  {
   "cell_type": "markdown",
   "id": "1b8dc6c4-024b-479c-b8db-9b4955fa901d",
   "metadata": {},
   "source": [
    "### The difference between two datetime objects will generate a timedelta type"
   ]
  },
  {
   "cell_type": "code",
   "execution_count": 22,
   "id": "d3194fd4-0ada-4dfb-b50a-5c1199836a33",
   "metadata": {},
   "outputs": [
    {
     "data": {
      "text/plain": [
       "datetime.timedelta(days=11583, seconds=21047, microseconds=476228)"
      ]
     },
     "execution_count": 22,
     "metadata": {},
     "output_type": "execute_result"
    }
   ],
   "source": [
    "dt = datetime.now()\n",
    "birthday = datetime(1993, 11, 1, 10, 5, 1)\n",
    "\n",
    "difference = dt - birthday\n",
    "difference"
   ]
  },
  {
   "cell_type": "code",
   "execution_count": 23,
   "id": "fcc7cdf8-6ef4-42fd-8a62-a9a0bf627ff7",
   "metadata": {},
   "outputs": [
    {
     "data": {
      "text/plain": [
       "datetime.timedelta"
      ]
     },
     "execution_count": 23,
     "metadata": {},
     "output_type": "execute_result"
    }
   ],
   "source": [
    "type(difference)"
   ]
  },
  {
   "cell_type": "code",
   "execution_count": 24,
   "id": "059e47c0-de23-45b7-87d8-ac5ef2be609a",
   "metadata": {},
   "outputs": [
    {
     "data": {
      "text/plain": [
       "11583"
      ]
     },
     "execution_count": 24,
     "metadata": {},
     "output_type": "execute_result"
    }
   ],
   "source": [
    "difference.days"
   ]
  },
  {
   "cell_type": "code",
   "execution_count": 25,
   "id": "e8b127f5-770f-400c-a97d-4fa5aafde1ca",
   "metadata": {},
   "outputs": [
    {
     "data": {
      "text/plain": [
       "datetime.datetime(2057, 4, 5, 21, 48, 15, 528652)"
      ]
     },
     "execution_count": 25,
     "metadata": {},
     "output_type": "execute_result"
    }
   ],
   "source": [
    "# New datetime to sum with my life\n",
    "\n",
    "dt2 = datetime.now()\n",
    "summ = dt2 + difference # when datetime and timedelta are added together it generates a new datetime\n",
    "summ"
   ]
  },
  {
   "cell_type": "code",
   "execution_count": null,
   "id": "4b68850b-54e7-4c12-9bf6-f1a5b79a72b7",
   "metadata": {},
   "outputs": [],
   "source": []
  }
 ],
 "metadata": {
  "kernelspec": {
   "display_name": "Python 3 (ipykernel)",
   "language": "python",
   "name": "python3"
  },
  "language_info": {
   "codemirror_mode": {
    "name": "ipython",
    "version": 3
   },
   "file_extension": ".py",
   "mimetype": "text/x-python",
   "name": "python",
   "nbconvert_exporter": "python",
   "pygments_lexer": "ipython3",
   "version": "3.13.5"
  }
 },
 "nbformat": 4,
 "nbformat_minor": 5
}
