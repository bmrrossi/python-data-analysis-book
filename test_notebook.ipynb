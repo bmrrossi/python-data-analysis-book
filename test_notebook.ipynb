{
 "cells": [
  {
   "cell_type": "code",
   "execution_count": 2,
   "id": "40eefc61-b5a0-402b-80ea-844a0892a2b1",
   "metadata": {},
   "outputs": [
    {
     "data": {
      "text/plain": [
       "[1.743683314695057,\n",
       " -0.4855250935240003,\n",
       " -0.5890111898078547,\n",
       " 1.6828170220618275,\n",
       " -0.87079478340883,\n",
       " 1.7099579845198878,\n",
       " 1.470873234904771]"
      ]
     },
     "execution_count": 2,
     "metadata": {},
     "output_type": "execute_result"
    }
   ],
   "source": [
    "import numpy as np\n",
    "\n",
    "data = [np.random.standard_normal() for i in range(7)]\n",
    "\n",
    "data"
   ]
  },
  {
   "cell_type": "markdown",
   "id": "4d6f8f9b-8050-4d2e-9aee-0200e2ffd93a",
   "metadata": {},
   "source": [
    "# Introductory examples\n",
    "\n",
    "## 1. usa.gov data from bit.ly"
   ]
  },
  {
   "cell_type": "code",
   "execution_count": 6,
   "id": "a5146759-1020-4b86-89fb-cf867af7389d",
   "metadata": {},
   "outputs": [
    {
     "data": {
      "text/plain": [
       "'/Users/bmrrossi/Documents/workspaces/learning_workspace/python-data-analysis'"
      ]
     },
     "execution_count": 6,
     "metadata": {},
     "output_type": "execute_result"
    }
   ],
   "source": [
    "%pwd"
   ]
  },
  {
   "cell_type": "code",
   "execution_count": 7,
   "id": "1dff3a84-d8e0-489d-a17d-206f4a6f89e6",
   "metadata": {},
   "outputs": [],
   "source": [
    "b = [1, 2, 3]"
   ]
  },
  {
   "cell_type": "code",
   "execution_count": 11,
   "id": "6d79a6a0-70db-4e42-bd80-d3e30d56e4a5",
   "metadata": {},
   "outputs": [
    {
     "data": {
      "text/plain": [
       "3"
      ]
     },
     "execution_count": 11,
     "metadata": {},
     "output_type": "execute_result"
    }
   ],
   "source": [
    "len(b)"
   ]
  },
  {
   "cell_type": "code",
   "execution_count": 12,
   "id": "50d82a30-6e96-4ead-8283-164b7f995f76",
   "metadata": {},
   "outputs": [
    {
     "data": {
      "text/plain": [
       "1"
      ]
     },
     "execution_count": 12,
     "metadata": {},
     "output_type": "execute_result"
    }
   ],
   "source": [
    "b.count(1)"
   ]
  },
  {
   "cell_type": "code",
   "execution_count": 13,
   "id": "fdcdc5de-a394-4893-bde8-738bc50b5201",
   "metadata": {},
   "outputs": [],
   "source": [
    "from datetime import datetime"
   ]
  },
  {
   "cell_type": "code",
   "execution_count": 16,
   "id": "4771a97a-2dab-420e-bdb6-b60dcd206ee1",
   "metadata": {},
   "outputs": [
    {
     "data": {
      "text/plain": [
       "datetime.datetime(2025, 7, 18, 18, 30, 24, 801758)"
      ]
     },
     "execution_count": 16,
     "metadata": {},
     "output_type": "execute_result"
    }
   ],
   "source": [
    "datetime.now()"
   ]
  },
  {
   "cell_type": "code",
   "execution_count": 17,
   "id": "a74c0578-2cfe-4685-956f-033a75d399f3",
   "metadata": {},
   "outputs": [
    {
     "data": {
      "text/plain": [
       "\u001b[31mType:\u001b[39m        list\n",
       "\u001b[31mString form:\u001b[39m [1, 2, 3]\n",
       "\u001b[31mLength:\u001b[39m      3\n",
       "\u001b[31mDocstring:\u001b[39m  \n",
       "Built-in mutable sequence.\n",
       "\n",
       "If no argument is given, the constructor creates a new empty list.\n",
       "The argument must be an iterable if specified."
      ]
     },
     "metadata": {},
     "output_type": "display_data"
    }
   ],
   "source": [
    "b?"
   ]
  },
  {
   "cell_type": "code",
   "execution_count": 18,
   "id": "78cf8e55-0e37-4882-a3dc-5e724c7aee3d",
   "metadata": {},
   "outputs": [],
   "source": [
    "today = datetime.now()"
   ]
  },
  {
   "cell_type": "code",
   "execution_count": 19,
   "id": "d7bef489-21d5-4a8c-9deb-09db3f5879a9",
   "metadata": {},
   "outputs": [
    {
     "data": {
      "text/plain": [
       "\u001b[31mType:\u001b[39m        datetime\n",
       "\u001b[31mString form:\u001b[39m 2025-07-18 18:32:37.081930\n",
       "\u001b[31mFile:\u001b[39m        ~/miniconda3/envs/pydata-book/lib/python3.13/datetime.py\n",
       "\u001b[31mDocstring:\u001b[39m  \n",
       "datetime(year, month, day[, hour[, minute[, second[, microsecond[,tzinfo]]]]])\n",
       "\n",
       "The year, month and day arguments are required. tzinfo may be None, or an\n",
       "instance of a tzinfo subclass. The remaining arguments may be ints."
      ]
     },
     "metadata": {},
     "output_type": "display_data"
    }
   ],
   "source": [
    "today?"
   ]
  },
  {
   "cell_type": "code",
   "execution_count": 20,
   "id": "9e51b330-3688-443e-87fd-9d4f7be91860",
   "metadata": {},
   "outputs": [
    {
     "data": {
      "text/plain": [
       "\u001b[31mSignature:\u001b[39m print(*args, sep=\u001b[33m' '\u001b[39m, end=\u001b[33m'\\n'\u001b[39m, file=\u001b[38;5;28;01mNone\u001b[39;00m, flush=\u001b[38;5;28;01mFalse\u001b[39;00m)\n",
       "\u001b[31mDocstring:\u001b[39m\n",
       "Prints the values to a stream, or to sys.stdout by default.\n",
       "\n",
       "sep\n",
       "  string inserted between values, default a space.\n",
       "end\n",
       "  string appended after the last value, default a newline.\n",
       "file\n",
       "  a file-like object (stream); defaults to the current sys.stdout.\n",
       "flush\n",
       "  whether to forcibly flush the stream.\n",
       "\u001b[31mType:\u001b[39m      builtin_function_or_method"
      ]
     },
     "metadata": {},
     "output_type": "display_data"
    }
   ],
   "source": [
    "print?"
   ]
  },
  {
   "cell_type": "code",
   "execution_count": 21,
   "id": "c76192f5-1488-4bba-9eec-669a73e35b04",
   "metadata": {},
   "outputs": [
    {
     "name": "stdout",
     "output_type": "stream",
     "text": [
      "Hello***Bruno\n"
     ]
    }
   ],
   "source": [
    "print('Hello', 'Bruno', sep='***')"
   ]
  },
  {
   "cell_type": "code",
   "execution_count": 22,
   "id": "b5f81265-db27-4621-815b-d39e5a504af0",
   "metadata": {},
   "outputs": [
    {
     "data": {
      "text/plain": [
       "np.__loader__\n",
       "np.load\n",
       "np.loadtxt"
      ]
     },
     "metadata": {},
     "output_type": "display_data"
    }
   ],
   "source": [
    "import numpy as np\n",
    "\n",
    "np.*load*?"
   ]
  },
  {
   "cell_type": "code",
   "execution_count": 23,
   "id": "9d7d9339-0a7c-4ffa-bccb-4f0d5b7f61d7",
   "metadata": {},
   "outputs": [
    {
     "data": {
      "text/plain": [
       "b.__contains__\n",
       "b.copy\n",
       "b.count"
      ]
     },
     "metadata": {},
     "output_type": "display_data"
    }
   ],
   "source": [
    "b.*co*?"
   ]
  },
  {
   "cell_type": "code",
   "execution_count": 24,
   "id": "cf47e435-2768-4801-a8fb-f81a074b9af0",
   "metadata": {},
   "outputs": [
    {
     "data": {
      "text/plain": [
       "[1, 2, 3]"
      ]
     },
     "execution_count": 24,
     "metadata": {},
     "output_type": "execute_result"
    }
   ],
   "source": [
    "lst = [1, 2, 3]\n",
    "lst"
   ]
  },
  {
   "cell_type": "code",
   "execution_count": 25,
   "id": "5bd0d5d6-7e38-4764-8a15-dd3117564e9a",
   "metadata": {},
   "outputs": [
    {
     "data": {
      "text/plain": [
       "[1, 2, 3]"
      ]
     },
     "execution_count": 25,
     "metadata": {},
     "output_type": "execute_result"
    }
   ],
   "source": [
    "def append_number(lst, number):\n",
    "    lst.append(number)\n",
    "\n",
    "lst"
   ]
  },
  {
   "cell_type": "code",
   "execution_count": 26,
   "id": "f8455e28-b5f5-4fc0-a780-142378d959b3",
   "metadata": {},
   "outputs": [],
   "source": [
    "append_number(lst, 4)"
   ]
  },
  {
   "cell_type": "code",
   "execution_count": 27,
   "id": "0d8824ae-666f-4001-bd4b-a227adf022ce",
   "metadata": {},
   "outputs": [
    {
     "data": {
      "text/plain": [
       "[1, 2, 3, 4]"
      ]
     },
     "execution_count": 27,
     "metadata": {},
     "output_type": "execute_result"
    }
   ],
   "source": [
    "lst\n"
   ]
  },
  {
   "cell_type": "code",
   "execution_count": 28,
   "id": "61bd1004-2a8f-4934-968c-e41853aae94f",
   "metadata": {},
   "outputs": [],
   "source": [
    "tpl = (1,2)"
   ]
  },
  {
   "cell_type": "code",
   "execution_count": 30,
   "id": "7dda6f76-054c-4eb4-a557-1ee611130626",
   "metadata": {},
   "outputs": [
    {
     "data": {
      "text/plain": [
       "(1, 2)"
      ]
     },
     "execution_count": 30,
     "metadata": {},
     "output_type": "execute_result"
    }
   ],
   "source": [
    "tpl"
   ]
  },
  {
   "cell_type": "code",
   "execution_count": 32,
   "id": "0ada87ca-d844-4eb2-abb3-c47fc8f253fa",
   "metadata": {},
   "outputs": [
    {
     "name": "stdout",
     "output_type": "stream",
     "text": [
      "(3, 4)\n"
     ]
    },
    {
     "data": {
      "text/plain": [
       "(1, 2)"
      ]
     },
     "execution_count": 32,
     "metadata": {},
     "output_type": "execute_result"
    }
   ],
   "source": [
    "def redefine_tpl(tpl, new_tpl=(3, 4)):\n",
    "    print(new_tpl)\n",
    "    tpl = new_tpl\n",
    "\n",
    "redefine_tpl(tpl)\n",
    "\n",
    "tpl"
   ]
  },
  {
   "cell_type": "code",
   "execution_count": 33,
   "id": "64baa92b-3410-4def-84c7-28bf910d6ecb",
   "metadata": {},
   "outputs": [
    {
     "data": {
      "text/plain": [
       "(1, 2)"
      ]
     },
     "execution_count": 33,
     "metadata": {},
     "output_type": "execute_result"
    }
   ],
   "source": [
    "tpl"
   ]
  },
  {
   "cell_type": "code",
   "execution_count": 34,
   "id": "8082ff79-c5c3-4636-adfc-d96306b244cb",
   "metadata": {},
   "outputs": [],
   "source": [
    "tpl = (3,4)"
   ]
  },
  {
   "cell_type": "code",
   "execution_count": 35,
   "id": "d4bf12fa-afcd-491a-87b7-5bfb7ab51320",
   "metadata": {},
   "outputs": [
    {
     "data": {
      "text/plain": [
       "(3, 4)"
      ]
     },
     "execution_count": 35,
     "metadata": {},
     "output_type": "execute_result"
    }
   ],
   "source": [
    "tpl"
   ]
  },
  {
   "cell_type": "code",
   "execution_count": 36,
   "id": "da71fd73-d5f2-49ce-b6f7-30a18c2ff33a",
   "metadata": {},
   "outputs": [],
   "source": [
    "new_tpl = (5, 6, 7)"
   ]
  },
  {
   "cell_type": "code",
   "execution_count": 37,
   "id": "323e8dfb-140f-4c11-9f58-63d38906c58c",
   "metadata": {},
   "outputs": [
    {
     "name": "stdout",
     "output_type": "stream",
     "text": [
      "(5, 6, 7)\n"
     ]
    }
   ],
   "source": [
    "redefine_tpl(tpl, new_tpl)"
   ]
  },
  {
   "cell_type": "code",
   "execution_count": 38,
   "id": "35dec4aa-107b-425d-a0aa-6e7cb0737b7b",
   "metadata": {},
   "outputs": [
    {
     "data": {
      "text/plain": [
       "(3, 4)"
      ]
     },
     "execution_count": 38,
     "metadata": {},
     "output_type": "execute_result"
    }
   ],
   "source": [
    "tpl"
   ]
  },
  {
   "cell_type": "code",
   "execution_count": 39,
   "id": "e4181552-e7f3-4d6c-9a16-6dd8fb633f09",
   "metadata": {},
   "outputs": [
    {
     "data": {
      "text/plain": [
       "[1, 2, 3, 4]"
      ]
     },
     "execution_count": 39,
     "metadata": {},
     "output_type": "execute_result"
    }
   ],
   "source": [
    "lst"
   ]
  },
  {
   "cell_type": "code",
   "execution_count": 42,
   "id": "5cd35865-c483-458b-9b95-4ccd05c4f49c",
   "metadata": {},
   "outputs": [
    {
     "name": "stdout",
     "output_type": "stream",
     "text": [
      "['a', 'b']\n"
     ]
    },
    {
     "data": {
      "text/plain": [
       "[1, 2, 3, 4]"
      ]
     },
     "execution_count": 42,
     "metadata": {},
     "output_type": "execute_result"
    }
   ],
   "source": [
    "def redefined_lst(lst, new_lst):\n",
    "    lst = new_lst\n",
    "    print(lst)\n",
    "\n",
    "redefined_lst(lst, ['a', 'b'])\n",
    "\n",
    "lst"
   ]
  },
  {
   "cell_type": "code",
   "execution_count": 43,
   "id": "1b92bf7d-28c4-4493-a744-430c645c3b10",
   "metadata": {},
   "outputs": [],
   "source": [
    "name = 'Bruno'"
   ]
  },
  {
   "cell_type": "code",
   "execution_count": 44,
   "id": "a19e650c-7680-46e2-a35a-60042d01b334",
   "metadata": {},
   "outputs": [
    {
     "data": {
      "text/plain": [
       "False"
      ]
     },
     "execution_count": 44,
     "metadata": {},
     "output_type": "execute_result"
    }
   ],
   "source": [
    "name.isdigit()"
   ]
  },
  {
   "cell_type": "code",
   "execution_count": 46,
   "id": "1a96b0c4-8697-45c0-96a0-1bf7a041dba1",
   "metadata": {},
   "outputs": [],
   "source": [
    "attribute = getattr(name, \"lower\")"
   ]
  },
  {
   "cell_type": "code",
   "execution_count": 47,
   "id": "6e7cab9e-21af-4e16-a87a-4b4a10ad9219",
   "metadata": {},
   "outputs": [
    {
     "data": {
      "text/plain": [
       "'bruno'"
      ]
     },
     "execution_count": 47,
     "metadata": {},
     "output_type": "execute_result"
    }
   ],
   "source": [
    "attribute()"
   ]
  },
  {
   "cell_type": "code",
   "execution_count": 48,
   "id": "0cf47976-a483-4854-8eec-a361c78f9840",
   "metadata": {},
   "outputs": [
    {
     "data": {
      "text/plain": [
       "2"
      ]
     },
     "execution_count": 48,
     "metadata": {},
     "output_type": "execute_result"
    }
   ],
   "source": [
    "a = 2\n",
    "b = 3\n",
    "\n",
    "b & a"
   ]
  },
  {
   "cell_type": "code",
   "execution_count": 49,
   "id": "a2837780-09cd-415c-a8fc-31f8894606b9",
   "metadata": {},
   "outputs": [
    {
     "data": {
      "text/plain": [
       "3"
      ]
     },
     "execution_count": 49,
     "metadata": {},
     "output_type": "execute_result"
    }
   ],
   "source": [
    "b | a"
   ]
  },
  {
   "cell_type": "code",
   "execution_count": 50,
   "id": "8966d164-08c5-4275-a34b-85230cafa8e3",
   "metadata": {},
   "outputs": [
    {
     "ename": "TypeError",
     "evalue": "unsupported operand type(s) for &: 'str' and 'str'",
     "output_type": "error",
     "traceback": [
      "\u001b[31m---------------------------------------------------------------------------\u001b[39m",
      "\u001b[31mTypeError\u001b[39m                                 Traceback (most recent call last)",
      "\u001b[36mCell\u001b[39m\u001b[36m \u001b[39m\u001b[32mIn[50]\u001b[39m\u001b[32m, line 3\u001b[39m\n\u001b[32m      1\u001b[39m a = \u001b[33m'\u001b[39m\u001b[33mvalor\u001b[39m\u001b[33m'\u001b[39m\n\u001b[32m      2\u001b[39m b = \u001b[33m'\u001b[39m\u001b[33moutrovalor\u001b[39m\u001b[33m'\u001b[39m\n\u001b[32m----> \u001b[39m\u001b[32m3\u001b[39m \u001b[43ma\u001b[49m\u001b[43m \u001b[49m\u001b[43m&\u001b[49m\u001b[43m \u001b[49m\u001b[43mb\u001b[49m\n",
      "\u001b[31mTypeError\u001b[39m: unsupported operand type(s) for &: 'str' and 'str'"
     ]
    }
   ],
   "source": [
    "a = 'valor'\n",
    "b = 'outrovalor'\n",
    "a & b"
   ]
  },
  {
   "cell_type": "code",
   "execution_count": 51,
   "id": "ad94aaa0-a710-4d4d-ac77-8fe6b34b4366",
   "metadata": {},
   "outputs": [],
   "source": [
    "a = True"
   ]
  },
  {
   "cell_type": "code",
   "execution_count": 52,
   "id": "957efa76-e7e9-4db7-8747-b3ea331a012a",
   "metadata": {},
   "outputs": [],
   "source": [
    "b = False"
   ]
  },
  {
   "cell_type": "code",
   "execution_count": 53,
   "id": "30d911a4-61fd-44d8-903a-8bef4f17ee02",
   "metadata": {},
   "outputs": [
    {
     "data": {
      "text/plain": [
       "False"
      ]
     },
     "execution_count": 53,
     "metadata": {},
     "output_type": "execute_result"
    }
   ],
   "source": [
    "a & b"
   ]
  },
  {
   "cell_type": "code",
   "execution_count": 54,
   "id": "654b6482-077e-4c39-a7ec-652d68a674d5",
   "metadata": {},
   "outputs": [
    {
     "data": {
      "text/plain": [
       "True"
      ]
     },
     "execution_count": 54,
     "metadata": {},
     "output_type": "execute_result"
    }
   ],
   "source": [
    "a | b"
   ]
  },
  {
   "cell_type": "code",
   "execution_count": 55,
   "id": "83c88870-249c-4952-84ce-aae8b2a2992d",
   "metadata": {},
   "outputs": [
    {
     "data": {
      "text/plain": [
       "True"
      ]
     },
     "execution_count": 55,
     "metadata": {},
     "output_type": "execute_result"
    }
   ],
   "source": [
    "a ^ b"
   ]
  },
  {
   "cell_type": "code",
   "execution_count": 56,
   "id": "1dcfa2e0-c50c-4971-9163-020ab2418dfd",
   "metadata": {},
   "outputs": [
    {
     "data": {
      "text/plain": [
       "False"
      ]
     },
     "execution_count": 56,
     "metadata": {},
     "output_type": "execute_result"
    }
   ],
   "source": [
    "b = True\n",
    "a ^ b"
   ]
  },
  {
   "cell_type": "code",
   "execution_count": 57,
   "id": "de3dc35c-da40-49d6-99a6-bcb4931ec7c1",
   "metadata": {},
   "outputs": [
    {
     "data": {
      "text/plain": [
       "'bruno'"
      ]
     },
     "execution_count": 57,
     "metadata": {},
     "output_type": "execute_result"
    }
   ],
   "source": [
    "a = 'bruno'\n",
    "a"
   ]
  },
  {
   "cell_type": "code",
   "execution_count": 58,
   "id": "ca42888f-dfba-4c2b-9df4-eb9d2552f37a",
   "metadata": {},
   "outputs": [
    {
     "ename": "TypeError",
     "evalue": "'str' object does not support item assignment",
     "output_type": "error",
     "traceback": [
      "\u001b[31m---------------------------------------------------------------------------\u001b[39m",
      "\u001b[31mTypeError\u001b[39m                                 Traceback (most recent call last)",
      "\u001b[36mCell\u001b[39m\u001b[36m \u001b[39m\u001b[32mIn[58]\u001b[39m\u001b[32m, line 1\u001b[39m\n\u001b[32m----> \u001b[39m\u001b[32m1\u001b[39m \u001b[43ma\u001b[49m\u001b[43m[\u001b[49m\u001b[32;43m1\u001b[39;49m\u001b[43m]\u001b[49m = \u001b[33m'\u001b[39m\u001b[33mlele\u001b[39m\u001b[33m'\u001b[39m\n",
      "\u001b[31mTypeError\u001b[39m: 'str' object does not support item assignment"
     ]
    }
   ],
   "source": [
    "a[1] = 'lele'"
   ]
  },
  {
   "cell_type": "code",
   "execution_count": null,
   "id": "47d544d8-df93-44b0-8839-7309968d1585",
   "metadata": {},
   "outputs": [],
   "source": []
  },
  {
   "cell_type": "code",
   "execution_count": 59,
   "id": "f0104d2a-d7e6-4668-a76f-4bc37fac7927",
   "metadata": {},
   "outputs": [],
   "source": [
    "a = a.replace('r', 'j')"
   ]
  },
  {
   "cell_type": "code",
   "execution_count": 60,
   "id": "a4c45d65-dd6e-4405-a573-f4774d990127",
   "metadata": {},
   "outputs": [
    {
     "data": {
      "text/plain": [
       "'bjuno'"
      ]
     },
     "execution_count": 60,
     "metadata": {},
     "output_type": "execute_result"
    }
   ],
   "source": [
    "a"
   ]
  },
  {
   "cell_type": "code",
   "execution_count": 61,
   "id": "9afb9769-6c8a-4975-b66a-81975d7b0d18",
   "metadata": {},
   "outputs": [
    {
     "data": {
      "text/plain": [
       "'BJUNO'"
      ]
     },
     "execution_count": 61,
     "metadata": {},
     "output_type": "execute_result"
    }
   ],
   "source": [
    "a.upper()"
   ]
  },
  {
   "cell_type": "code",
   "execution_count": 62,
   "id": "ad7e042e-e6d5-4820-a4f4-856d9d9e9f69",
   "metadata": {},
   "outputs": [
    {
     "data": {
      "text/plain": [
       "'bjuno'"
      ]
     },
     "execution_count": 62,
     "metadata": {},
     "output_type": "execute_result"
    }
   ],
   "source": [
    "a"
   ]
  },
  {
   "cell_type": "code",
   "execution_count": 67,
   "id": "d86a1e4d-3c2a-47a5-aaad-955ea20c6b46",
   "metadata": {},
   "outputs": [
    {
     "data": {
      "text/plain": [
       "'u'"
      ]
     },
     "execution_count": 67,
     "metadata": {},
     "output_type": "execute_result"
    }
   ],
   "source": [
    "a[2:3]"
   ]
  },
  {
   "cell_type": "code",
   "execution_count": 68,
   "id": "cdbbe4e5-3f70-436c-b121-5e0ee5b4be76",
   "metadata": {},
   "outputs": [],
   "source": [
    "s = r'Meu nome \\ é paster'"
   ]
  },
  {
   "cell_type": "code",
   "execution_count": 69,
   "id": "0b4c7cb3-3364-454b-b830-4ad7c85f7cfb",
   "metadata": {},
   "outputs": [
    {
     "data": {
      "text/plain": [
       "'Meu nome \\\\ é paster'"
      ]
     },
     "execution_count": 69,
     "metadata": {},
     "output_type": "execute_result"
    }
   ],
   "source": [
    "s"
   ]
  },
  {
   "cell_type": "code",
   "execution_count": 73,
   "id": "defcef8a-dc18-4c61-bc41-ff7b3b7bc791",
   "metadata": {},
   "outputs": [
    {
     "data": {
      "text/plain": [
       "'\\nOla minha gente\\nmeu nome é bruno \\\\ paster\\n'"
      ]
     },
     "execution_count": 73,
     "metadata": {},
     "output_type": "execute_result"
    }
   ],
   "source": [
    "r = r\"\"\"\n",
    "Ola minha gente\n",
    "meu nome é bruno \\ paster\n",
    "\"\"\"\n",
    "\n",
    "r"
   ]
  },
  {
   "cell_type": "code",
   "execution_count": 74,
   "id": "139beb50-5e14-4501-85af-30a4579701af",
   "metadata": {},
   "outputs": [
    {
     "name": "stdout",
     "output_type": "stream",
     "text": [
      "5 x 1 = 5\n",
      "5 x 2 = 10\n",
      "5 x 3 = 15\n",
      "5 x 4 = 20\n",
      "5 x 5 = 25\n",
      "5 x 6 = 30\n",
      "5 x 7 = 35\n",
      "5 x 8 = 40\n",
      "5 x 9 = 45\n"
     ]
    }
   ],
   "source": [
    "number = 5\n",
    "\n",
    "for i in range(1, 10):\n",
    "    print(f'{number} x {i} = {number*i}')"
   ]
  },
  {
   "cell_type": "code",
   "execution_count": 75,
   "id": "fa5a21b8-9b3e-4ea7-99c0-481c10432f17",
   "metadata": {},
   "outputs": [
    {
     "data": {
      "text/plain": [
       "range(0, 3)"
      ]
     },
     "execution_count": 75,
     "metadata": {},
     "output_type": "execute_result"
    }
   ],
   "source": [
    "range(3)"
   ]
  },
  {
   "cell_type": "code",
   "execution_count": 76,
   "id": "6f945b7e-dccc-4051-b03e-60f37d1492c9",
   "metadata": {},
   "outputs": [
    {
     "name": "stdout",
     "output_type": "stream",
     "text": [
      "0\n",
      "1\n",
      "2\n",
      "3\n",
      "4\n"
     ]
    }
   ],
   "source": [
    "rng = range(5)\n",
    "\n",
    "for i in rng:\n",
    "    print(i)"
   ]
  },
  {
   "cell_type": "code",
   "execution_count": 77,
   "id": "7da35005-205d-462f-969d-c54a50bc28a8",
   "metadata": {},
   "outputs": [
    {
     "name": "stdout",
     "output_type": "stream",
     "text": [
      "3\n",
      "7\n",
      "11\n",
      "15\n",
      "19\n"
     ]
    }
   ],
   "source": [
    "rng = range(3, 20, 4)\n",
    "\n",
    "for i in rng:\n",
    "    print(i)"
   ]
  },
  {
   "cell_type": "code",
   "execution_count": 80,
   "id": "9e0030f5-9add-473d-ab3d-0207cb2124fe",
   "metadata": {},
   "outputs": [
    {
     "data": {
      "text/plain": [
       "0.7417773202029058"
      ]
     },
     "execution_count": 80,
     "metadata": {},
     "output_type": "execute_result"
    }
   ],
   "source": [
    "import random as rd\n",
    "\n",
    "rd.random()"
   ]
  },
  {
   "cell_type": "raw",
   "id": "84f6fc18-6ae5-48c3-ba48-8bd9fa45b54e",
   "metadata": {},
   "source": [
    "rd.randrange(1, 100)"
   ]
  },
  {
   "cell_type": "code",
   "execution_count": 82,
   "id": "8a5ae4dc-f2a3-44d2-8486-5980a48de94e",
   "metadata": {},
   "outputs": [
    {
     "data": {
      "text/plain": [
       "<module 'random' from '/Users/bmrrossi/miniconda3/envs/pydata-book/lib/python3.13/random.py'>"
      ]
     },
     "execution_count": 82,
     "metadata": {},
     "output_type": "execute_result"
    }
   ],
   "source": [
    "rd"
   ]
  },
  {
   "cell_type": "code",
   "execution_count": 85,
   "id": "0b419630-be41-465a-a062-0c7e804dc557",
   "metadata": {},
   "outputs": [
    {
     "data": {
      "text/plain": [
       "4"
      ]
     },
     "execution_count": 85,
     "metadata": {},
     "output_type": "execute_result"
    }
   ],
   "source": [
    "rd.randint(1, 10)"
   ]
  },
  {
   "cell_type": "code",
   "execution_count": 88,
   "id": "d29cdc36-f251-4961-8d9c-ecb0397514e1",
   "metadata": {},
   "outputs": [
    {
     "name": "stdin",
     "output_type": "stream",
     "text": [
      "Type a number between 1 and 10. 4\n",
      "You're wrong. Please, try again:  2\n",
      "You're wrong. Please, try again:  9\n",
      "You're wrong. Please, try again:  1\n",
      "You're wrong. Please, try again:  5\n",
      "You're wrong. Please, try again:  6\n"
     ]
    },
    {
     "name": "stdout",
     "output_type": "stream",
     "text": [
      "Congrats. You're right, the number is 6\n"
     ]
    }
   ],
   "source": [
    "guess = rd.randint(1, 10)\n",
    "\n",
    "typed = input(\"Type a number between 1 and 10.\")\n",
    "while (int(typed) != guess):\n",
    "    typed = input(\"You're wrong. Please, try again: \")\n",
    "\n",
    "print(f\"Congrats. You're right, the number is {guess}\")"
   ]
  },
  {
   "cell_type": "code",
   "execution_count": null,
   "id": "2410a9f0-8b1c-415c-bdb4-c9ae44ccfae6",
   "metadata": {},
   "outputs": [],
   "source": []
  }
 ],
 "metadata": {
  "kernelspec": {
   "display_name": "Python 3 (ipykernel)",
   "language": "python",
   "name": "python3"
  },
  "language_info": {
   "codemirror_mode": {
    "name": "ipython",
    "version": 3
   },
   "file_extension": ".py",
   "mimetype": "text/x-python",
   "name": "python",
   "nbconvert_exporter": "python",
   "pygments_lexer": "ipython3",
   "version": "3.13.5"
  }
 },
 "nbformat": 4,
 "nbformat_minor": 5
}
