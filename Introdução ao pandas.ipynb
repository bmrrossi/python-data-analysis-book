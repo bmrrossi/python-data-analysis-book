{
 "cells": [
  {
   "cell_type": "markdown",
   "id": "3df0e68e-181c-4ca4-ba94-3c3527320b95",
   "metadata": {},
   "source": [
    "# Introdução ao pandas"
   ]
  },
  {
   "cell_type": "code",
   "execution_count": 1,
   "id": "08ddd2a5-e8e3-46d0-b180-4178ef71e4c3",
   "metadata": {},
   "outputs": [],
   "source": [
    "import numpy as np\n",
    "import pandas as pd\n",
    "\n",
    "obj = pd.Series([4, 7, -5, 3])"
   ]
  },
  {
   "cell_type": "code",
   "execution_count": 2,
   "id": "4e5129cf-02d2-48ac-bf01-6b0d564e93c2",
   "metadata": {},
   "outputs": [
    {
     "data": {
      "text/plain": [
       "0    4\n",
       "1    7\n",
       "2   -5\n",
       "3    3\n",
       "dtype: int64"
      ]
     },
     "execution_count": 2,
     "metadata": {},
     "output_type": "execute_result"
    }
   ],
   "source": [
    "obj"
   ]
  },
  {
   "cell_type": "code",
   "execution_count": 3,
   "id": "fd1ea581-0e26-436a-8d2c-2931dad92b94",
   "metadata": {},
   "outputs": [
    {
     "data": {
      "text/plain": [
       "<NumpyExtensionArray>\n",
       "[4, 7, -5, 3]\n",
       "Length: 4, dtype: int64"
      ]
     },
     "execution_count": 3,
     "metadata": {},
     "output_type": "execute_result"
    }
   ],
   "source": [
    "obj.array"
   ]
  },
  {
   "cell_type": "code",
   "execution_count": 4,
   "id": "cec814a3-0f25-41f1-9b37-c244983cb49f",
   "metadata": {},
   "outputs": [
    {
     "data": {
      "text/plain": [
       "RangeIndex(start=0, stop=4, step=1)"
      ]
     },
     "execution_count": 4,
     "metadata": {},
     "output_type": "execute_result"
    }
   ],
   "source": [
    "obj.index"
   ]
  },
  {
   "cell_type": "code",
   "execution_count": 5,
   "id": "b0fb4a8d-4ce4-444a-b851-dd1ccbf57e13",
   "metadata": {},
   "outputs": [],
   "source": [
    "obj2 = pd.Series([4, 5, -7, 3], index=['a', 'b', 'c', 'd']) # Dando indices personalizados aos valores"
   ]
  },
  {
   "cell_type": "code",
   "execution_count": 6,
   "id": "8d58b4bf-ec0f-43de-83a7-ef832dd61945",
   "metadata": {},
   "outputs": [
    {
     "data": {
      "text/plain": [
       "a    4\n",
       "b    5\n",
       "c   -7\n",
       "d    3\n",
       "dtype: int64"
      ]
     },
     "execution_count": 6,
     "metadata": {},
     "output_type": "execute_result"
    }
   ],
   "source": [
    "obj2"
   ]
  },
  {
   "cell_type": "code",
   "execution_count": 8,
   "id": "c7718ff4-a5eb-4f10-9d24-3e740a48fee5",
   "metadata": {},
   "outputs": [
    {
     "data": {
      "text/plain": [
       "np.int64(5)"
      ]
     },
     "execution_count": 8,
     "metadata": {},
     "output_type": "execute_result"
    }
   ],
   "source": [
    "obj2['b'] # selecionando pelo indice"
   ]
  },
  {
   "cell_type": "code",
   "execution_count": 9,
   "id": "c11567ec-7bab-472d-93e8-70048a6bffd3",
   "metadata": {},
   "outputs": [
    {
     "data": {
      "text/plain": [
       "a    4\n",
       "b    5\n",
       "d    3\n",
       "dtype: int64"
      ]
     },
     "execution_count": 9,
     "metadata": {},
     "output_type": "execute_result"
    }
   ],
   "source": [
    "obj2[obj2 > 0] # Dá pra usar as mesmas funcoes do numpy, como esse filtro aqui"
   ]
  },
  {
   "cell_type": "code",
   "execution_count": 10,
   "id": "bc35f534-f7eb-4062-916f-47616d2cc45a",
   "metadata": {},
   "outputs": [
    {
     "data": {
      "text/plain": [
       "a     8\n",
       "b    10\n",
       "c   -14\n",
       "d     6\n",
       "dtype: int64"
      ]
     },
     "execution_count": 10,
     "metadata": {},
     "output_type": "execute_result"
    }
   ],
   "source": [
    "obj2 * 2 # Multiplicando o array inteiro"
   ]
  },
  {
   "cell_type": "code",
   "execution_count": 11,
   "id": "c745ee22-e1b7-40d5-bcef-cb00f4357473",
   "metadata": {},
   "outputs": [
    {
     "data": {
      "text/plain": [
       "a    4\n",
       "b    5\n",
       "c   -7\n",
       "d    3\n",
       "dtype: int64"
      ]
     },
     "execution_count": 11,
     "metadata": {},
     "output_type": "execute_result"
    }
   ],
   "source": [
    "obj2 # Não alterou o original"
   ]
  },
  {
   "cell_type": "code",
   "execution_count": 13,
   "id": "1b76cf10-9caf-4eff-9306-347e17aa15cc",
   "metadata": {},
   "outputs": [
    {
     "data": {
      "text/plain": [
       "a     54.598150\n",
       "b    148.413159\n",
       "c      0.000912\n",
       "d     20.085537\n",
       "dtype: float64"
      ]
     },
     "execution_count": 13,
     "metadata": {},
     "output_type": "execute_result"
    }
   ],
   "source": [
    "np.exp(obj2) # Calculando o exponencial para cada elemento do array (usando o numero de Euller 2,718 como base)"
   ]
  },
  {
   "cell_type": "code",
   "execution_count": 15,
   "id": "f67d724c-15f7-4a2a-b998-1dd3338b4abf",
   "metadata": {},
   "outputs": [
    {
     "data": {
      "text/plain": [
       "True"
      ]
     },
     "execution_count": 15,
     "metadata": {},
     "output_type": "execute_result"
    }
   ],
   "source": [
    "'b' in obj2 # Dá pra usar essa expressao como em um dict"
   ]
  },
  {
   "cell_type": "code",
   "execution_count": 16,
   "id": "04c509d7-ee6b-45f6-b253-7cf948485545",
   "metadata": {},
   "outputs": [
    {
     "data": {
      "text/plain": [
       "False"
      ]
     },
     "execution_count": 16,
     "metadata": {},
     "output_type": "execute_result"
    }
   ],
   "source": [
    "'e' in obj2"
   ]
  },
  {
   "cell_type": "code",
   "execution_count": 17,
   "id": "0bb28162-ca75-49d4-9e71-a20b2ca3f794",
   "metadata": {},
   "outputs": [
    {
     "data": {
      "text/plain": [
       "{'a': 4, 'b': 5, 'c': -7, 'd': 3}"
      ]
     },
     "execution_count": 17,
     "metadata": {},
     "output_type": "execute_result"
    }
   ],
   "source": [
    "obj2.to_dict() # Da inclusive pra converter em um dict"
   ]
  },
  {
   "cell_type": "code",
   "execution_count": 18,
   "id": "2f2649cd-9b0d-466d-a680-0337bd6accac",
   "metadata": {},
   "outputs": [
    {
     "data": {
      "text/plain": [
       "a    False\n",
       "b    False\n",
       "c    False\n",
       "d    False\n",
       "dtype: bool"
      ]
     },
     "execution_count": 18,
     "metadata": {},
     "output_type": "execute_result"
    }
   ],
   "source": [
    "pd.isna(obj2) # Checka se é nulo"
   ]
  },
  {
   "cell_type": "code",
   "execution_count": 19,
   "id": "86c3b3ce-a659-4039-ac55-82f396fdfcd5",
   "metadata": {},
   "outputs": [
    {
     "data": {
      "text/plain": [
       "a    True\n",
       "b    True\n",
       "c    True\n",
       "d    True\n",
       "dtype: bool"
      ]
     },
     "execution_count": 19,
     "metadata": {},
     "output_type": "execute_result"
    }
   ],
   "source": [
    "pd.notna(obj2) # Checka se não é nulo"
   ]
  },
  {
   "cell_type": "code",
   "execution_count": 20,
   "id": "912e38bd-f5bc-4e33-ab4b-64022f8efff3",
   "metadata": {},
   "outputs": [
    {
     "data": {
      "text/plain": [
       "a    False\n",
       "b    False\n",
       "c    False\n",
       "d    False\n",
       "dtype: bool"
      ]
     },
     "execution_count": 20,
     "metadata": {},
     "output_type": "execute_result"
    }
   ],
   "source": [
    "obj2.isna() # Outra forma de usar"
   ]
  },
  {
   "cell_type": "code",
   "execution_count": null,
   "id": "9a4f65ca-da44-4082-8db5-4d4044628a47",
   "metadata": {},
   "outputs": [],
   "source": []
  }
 ],
 "metadata": {
  "kernelspec": {
   "display_name": "Python 3 (ipykernel)",
   "language": "python",
   "name": "python3"
  },
  "language_info": {
   "codemirror_mode": {
    "name": "ipython",
    "version": 3
   },
   "file_extension": ".py",
   "mimetype": "text/x-python",
   "name": "python",
   "nbconvert_exporter": "python",
   "pygments_lexer": "ipython3",
   "version": "3.13.5"
  }
 },
 "nbformat": 4,
 "nbformat_minor": 5
}
