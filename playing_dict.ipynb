{
 "cells": [
  {
   "cell_type": "code",
   "execution_count": 1,
   "id": "331fbc97-0b34-4a92-a784-fe3a7f4c01b5",
   "metadata": {},
   "outputs": [],
   "source": [
    "lst = ['bruno', 'banana', 'apple', 'lista', 'franci', 'pastel', 'abacate', 'abacaxi', 'borboleta', 'pato']"
   ]
  },
  {
   "cell_type": "code",
   "execution_count": 5,
   "id": "8afac10c-a65b-4a60-b02a-340865dc125b",
   "metadata": {},
   "outputs": [],
   "source": [
    "dict_letter = {}\n",
    "\n",
    "for l in lst:\n",
    "    letter = l[0]\n",
    "    if letter not in dict_letter:\n",
    "        dict_letter[letter] = [l]\n",
    "    else:\n",
    "        dict_letter[letter].append(l)"
   ]
  },
  {
   "cell_type": "code",
   "execution_count": 6,
   "id": "8497d194-9464-4547-98a5-983a19228d79",
   "metadata": {},
   "outputs": [
    {
     "data": {
      "text/plain": [
       "{'b': ['bruno', 'banana', 'borboleta'],\n",
       " 'a': ['apple', 'abacate', 'abacaxi'],\n",
       " 'l': ['lista'],\n",
       " 'f': ['franci'],\n",
       " 'p': ['pastel', 'pato']}"
      ]
     },
     "execution_count": 6,
     "metadata": {},
     "output_type": "execute_result"
    }
   ],
   "source": [
    "dict_letter"
   ]
  },
  {
   "cell_type": "markdown",
   "id": "3acdbffc-aa24-442d-9ecc-87621e62b818",
   "metadata": {},
   "source": [
    "## O mesmo fluxo acima poderia ser escrito desse jeito com *setdefault*"
   ]
  },
  {
   "cell_type": "code",
   "execution_count": 8,
   "id": "13bd4972-888f-4da3-a9ac-478add46c153",
   "metadata": {},
   "outputs": [
    {
     "data": {
      "text/plain": [
       "{'b': ['bruno', 'banana', 'borboleta'],\n",
       " 'a': ['apple', 'abacate', 'abacaxi'],\n",
       " 'l': ['lista'],\n",
       " 'f': ['franci'],\n",
       " 'p': ['pastel', 'pato']}"
      ]
     },
     "execution_count": 8,
     "metadata": {},
     "output_type": "execute_result"
    }
   ],
   "source": [
    "by_letter = {}\n",
    "\n",
    "for l in lst:\n",
    "    letter = l[0]\n",
    "    by_letter.setdefault(letter, []).append(l)\n",
    "\n",
    "by_letter"
   ]
  },
  {
   "cell_type": "markdown",
   "id": "f463562f-0533-494a-a688-ac61ec9cdcf3",
   "metadata": {},
   "source": [
    "## o módulo interno collections deixa mais fácil ainda com o *defaultdict*"
   ]
  },
  {
   "cell_type": "code",
   "execution_count": 9,
   "id": "7d0b25f7-f4ab-4d79-955e-59d165d53cb8",
   "metadata": {},
   "outputs": [],
   "source": [
    "from collections import defaultdict\n",
    "\n",
    "by_letter = defaultdict(list)\n",
    "\n",
    "for l in lst:\n",
    "    by_letter[l[0]].append(l)"
   ]
  },
  {
   "cell_type": "code",
   "execution_count": 10,
   "id": "e5c3d3bf-db49-4d71-bb9c-bc930f999dfd",
   "metadata": {},
   "outputs": [
    {
     "data": {
      "text/plain": [
       "defaultdict(list,\n",
       "            {'b': ['bruno', 'banana', 'borboleta'],\n",
       "             'a': ['apple', 'abacate', 'abacaxi'],\n",
       "             'l': ['lista'],\n",
       "             'f': ['franci'],\n",
       "             'p': ['pastel', 'pato']})"
      ]
     },
     "execution_count": 10,
     "metadata": {},
     "output_type": "execute_result"
    }
   ],
   "source": [
    "by_letter"
   ]
  },
  {
   "cell_type": "markdown",
   "id": "16cc5dc3-1a2a-45f2-83f7-f7a40276afaa",
   "metadata": {},
   "source": [
    "## Brincando de dict e list compreehension"
   ]
  },
  {
   "cell_type": "code",
   "execution_count": 54,
   "id": "9395e6b6-2829-4ee5-a470-b8950ceae45b",
   "metadata": {},
   "outputs": [
    {
     "data": {
      "text/plain": [
       "[{'nome': 'Globo terrestre', 'preco': 189.45},\n",
       " {'nome': 'Smartphone', 'preco': 2839.5}]"
      ]
     },
     "execution_count": 54,
     "metadata": {},
     "output_type": "execute_result"
    }
   ],
   "source": [
    "produtos = [\n",
    "    {'nome': 'Globo terrestre', 'preco': 210.5},\n",
    "    {'nome': 'Xícara', 'preco': 23.5},\n",
    "    {'nome': 'Caneta', 'preco': 3.40},\n",
    "    {'nome': 'Smartphone', 'preco': 3155.0},\n",
    "]\n",
    "\n",
    "produtos_com_desconto = [{**produto, 'preco': round(produto['preco'] * 0.9, 2)} for produto in produtos if produto['preco'] > 50]\n",
    "\n",
    "produtos_com_desconto"
   ]
  },
  {
   "cell_type": "code",
   "execution_count": 57,
   "id": "2b75734d-af7c-46b6-af01-a7b6ca376e77",
   "metadata": {},
   "outputs": [
    {
     "data": {
      "text/plain": [
       "['Bruno', 'Barbara']"
      ]
     },
     "execution_count": 57,
     "metadata": {},
     "output_type": "execute_result"
    }
   ],
   "source": [
    "lst = [\n",
    "        ['Bruno', 'Jorge', 'Xitao'],\n",
    "        ['Franci', 'Barbara', 'Marcela']\n",
    "      ]\n",
    "\n",
    "filtrar_por_inicial = [\n",
    "    n\n",
    "    for l in lst\n",
    "    for n in l\n",
    "    if n.lower().startswith('b')\n",
    "]\n",
    "\n",
    "filtrar_por_inicial"
   ]
  },
  {
   "cell_type": "markdown",
   "id": "ad474f37-ed54-4b88-8cf3-cee8fbc972ac",
   "metadata": {},
   "source": [
    "## Brincando com Set comprehension"
   ]
  },
  {
   "cell_type": "code",
   "execution_count": 46,
   "id": "2b276a27-e620-4956-a0ee-27dedc7c0fbf",
   "metadata": {},
   "outputs": [
    {
     "data": {
      "text/plain": [
       "['FRANCIELI', 'LUCIANA', 'GILBERTO', 'GUILHERME']"
      ]
     },
     "execution_count": 46,
     "metadata": {},
     "output_type": "execute_result"
    }
   ],
   "source": [
    "lista = ['Bruno', 'Tonho', 'Nina', 'Salem', 'Francieli', 'Pietra', 'Luciana', 'Gilberto', 'Guilherme']\n",
    "tamanhos = {len(nome) for nome in lista}\n",
    "\n",
    "maisculos_maiores_que_6 = [nome.upper() for nome in lista if len(nome) > 6]\n",
    "maisculos_maiores_que_6"
   ]
  },
  {
   "cell_type": "markdown",
   "id": "753e161c-d95e-4f7f-b8f9-33ade18a2bd7",
   "metadata": {},
   "source": [
    "## Brinicando com Map"
   ]
  },
  {
   "cell_type": "code",
   "execution_count": 48,
   "id": "4e10fd08-f64a-48c3-9aa1-88038641f08d",
   "metadata": {},
   "outputs": [
    {
     "data": {
      "text/plain": [
       "{4, 5, 6, 7, 8, 9}"
      ]
     },
     "execution_count": 48,
     "metadata": {},
     "output_type": "execute_result"
    }
   ],
   "source": [
    "set(map(len, lista))"
   ]
  },
  {
   "cell_type": "code",
   "execution_count": 52,
   "id": "5e0c43c1-16b4-4aee-ad8f-409c81952b59",
   "metadata": {},
   "outputs": [
    {
     "data": {
      "text/plain": [
       "['BRUNO',\n",
       " 'TONHO',\n",
       " 'NINA',\n",
       " 'SALEM',\n",
       " 'FRANCIELI',\n",
       " 'PIETRA',\n",
       " 'LUCIANA',\n",
       " 'GILBERTO',\n",
       " 'GUILHERME']"
      ]
     },
     "execution_count": 52,
     "metadata": {},
     "output_type": "execute_result"
    }
   ],
   "source": [
    "def func(n):\n",
    "    if type(n) == str:\n",
    "        return n.upper()\n",
    "    return 'h'\n",
    "\n",
    "list(map(func, lista))"
   ]
  },
  {
   "cell_type": "markdown",
   "id": "d0514cfd-6ee2-4cfd-9460-c970a138bed9",
   "metadata": {},
   "source": [
    "## Map com Lambda"
   ]
  },
  {
   "cell_type": "code",
   "execution_count": 53,
   "id": "48f9a8e9-6ab5-4ccf-a099-3b564d35f254",
   "metadata": {},
   "outputs": [
    {
     "data": {
      "text/plain": [
       "['BRUNO',\n",
       " 'TONHO',\n",
       " 'NINA',\n",
       " 'SALEM',\n",
       " 'FRANCIELI',\n",
       " 'PIETRA',\n",
       " 'LUCIANA',\n",
       " 'GILBERTO',\n",
       " 'GUILHERME']"
      ]
     },
     "execution_count": 53,
     "metadata": {},
     "output_type": "execute_result"
    }
   ],
   "source": [
    "list(map(lambda x: x.upper(), lista))"
   ]
  },
  {
   "cell_type": "markdown",
   "id": "d82f3595-379d-49a1-a8a7-a4deb85cd6e1",
   "metadata": {},
   "source": [
    "## Brincando com Itertools"
   ]
  },
  {
   "cell_type": "code",
   "execution_count": 60,
   "id": "5caa4e92-e9c9-478c-8235-99a9c25d8896",
   "metadata": {},
   "outputs": [
    {
     "name": "stdout",
     "output_type": "stream",
     "text": [
      "X ['Xitão']\n",
      "M ['Maria']\n",
      "J ['Joãozinho']\n",
      "M ['Mario']\n",
      "J ['Jorge', 'Jaime']\n",
      "A ['Alexa']\n",
      "B ['Bruno', 'Bond - James Bond']\n",
      "X ['Xuxa - so p baixinhos']\n"
     ]
    }
   ],
   "source": [
    "import itertools\n",
    "\n",
    "# Grouping (just consecutive) names by first letter using itertools\n",
    "\n",
    "def first_letter(x):\n",
    "    return x[0]\n",
    "\n",
    "names = ['Xitão', 'Maria', 'Joãozinho', 'Mario', 'Jorge', 'Jaime', 'Alexa', 'Bruno', 'Bond - James Bond', 'Xuxa - so p baixinhos']\n",
    "\n",
    "for letter, names in itertools.groupby(names, first_letter):\n",
    "    print(letter, list(names))"
   ]
  },
  {
   "cell_type": "code",
   "execution_count": 68,
   "id": "8b4c2e7b-f887-495a-a64d-cdebd64100e9",
   "metadata": {},
   "outputs": [
    {
     "name": "stdout",
     "output_type": "stream",
     "text": [
      "[(1, 2, 3), (1, 3, 2), (2, 1, 3), (2, 3, 1), (3, 1, 2), (3, 2, 1)]\n",
      "[('A', 'B'), ('B', 'A')]\n"
     ]
    }
   ],
   "source": [
    "from itertools import permutations\n",
    "\n",
    "# Creates a list with all the possible permutations from the iterable (the order is respected here)\n",
    "lst = list(permutations([1,2,3]))\n",
    "\n",
    "lst2 = list(permutations(('A', 'B')))\n",
    "\n",
    "print(lst)\n",
    "print(lst2)"
   ]
  },
  {
   "cell_type": "code",
   "execution_count": 79,
   "id": "feb6b3cd-13da-400b-8448-5d13334ecb22",
   "metadata": {},
   "outputs": [
    {
     "name": "stdout",
     "output_type": "stream",
     "text": [
      "[('Bruno', 'Teste', 'João'), ('Bruno', 'Teste', 'Silva'), ('Bruno', 'Teste', 'Banana'), ('Bruno', 'João', 'Silva'), ('Bruno', 'João', 'Banana'), ('Bruno', 'Silva', 'Banana'), ('Teste', 'João', 'Silva'), ('Teste', 'João', 'Banana'), ('Teste', 'Silva', 'Banana'), ('João', 'Silva', 'Banana')]\n"
     ]
    }
   ],
   "source": [
    "from itertools import combinations\n",
    "\n",
    "# Creates a list with all the possible combinations from the iterable (ignores the order)\n",
    "names = list(combinations(['Bruno', 'Teste', 'João', 'Silva', 'Banana'], 3))\n",
    "\n",
    "print(names)"
   ]
  },
  {
   "cell_type": "code",
   "execution_count": 85,
   "id": "bc9a6848-9109-4177-89f3-19fc41295b0d",
   "metadata": {},
   "outputs": [
    {
     "name": "stdout",
     "output_type": "stream",
     "text": [
      "[(1, 'A'), (1, 'B'), (2, 'A'), (2, 'B')]\n",
      "[(1, 1), (1, 2), (2, 1), (2, 2)]\n"
     ]
    }
   ],
   "source": [
    "from itertools import product\n",
    "\n",
    "list1 = [1, 2]\n",
    "list2 = ['A', 'B']\n",
    "\n",
    "# Cartesian product of list1 and list2\n",
    "result1 = list(product(list1, list2))\n",
    "print(result1)\n",
    "\n",
    "# Output: [(1, 'A'), (1, 'B'), (2, 'A'), (2, 'B')]\n",
    "\n",
    "# Cartesian product with repeat\n",
    "result2 = list(product(list1, repeat=2))\n",
    "print(result2)\n",
    "\n",
    "# Output: [(1, 1), (1, 2), (2, 1), (2, 2)]"
   ]
  },
  {
   "cell_type": "code",
   "execution_count": null,
   "id": "c0287211-e5a4-4542-8a93-8b676e9f1c0c",
   "metadata": {},
   "outputs": [],
   "source": []
  }
 ],
 "metadata": {
  "kernelspec": {
   "display_name": "Python 3 (ipykernel)",
   "language": "python",
   "name": "python3"
  },
  "language_info": {
   "codemirror_mode": {
    "name": "ipython",
    "version": 3
   },
   "file_extension": ".py",
   "mimetype": "text/x-python",
   "name": "python",
   "nbconvert_exporter": "python",
   "pygments_lexer": "ipython3",
   "version": "3.13.5"
  }
 },
 "nbformat": 4,
 "nbformat_minor": 5
}
